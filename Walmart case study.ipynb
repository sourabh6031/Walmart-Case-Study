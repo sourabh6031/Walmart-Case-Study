{
 "cells": [
  {
   "cell_type": "markdown",
   "id": "fea9750e",
   "metadata": {},
   "source": [
    "Business Case: Walmart - Confidence Interval and CLT"
   ]
  },
  {
   "cell_type": "markdown",
   "id": "6580282e",
   "metadata": {},
   "source": [
    "About Walmart:\n",
    "\n",
    "Walmart is an American multinational retail corporation that operates a chain of supercenters, discount departmental stores, and grocery stores from the United States. Walmart has more than 100 million customers worldwide.\n",
    "\n",
    "Business Problem:\n",
    "\n",
    "The Management team at Walmart Inc. wants to analyze the customer purchase behavior (specifically, purchase amount) against the customer’s gender and the various other factors to help the business make better decisions. They want to understand if the spending habits differ between male and female customers: Do women spend more on Black Friday than men? (Assume 50 million customers are male and 50 million are female)."
   ]
  },
  {
   "cell_type": "code",
   "execution_count": null,
   "id": "be649927",
   "metadata": {},
   "outputs": [],
   "source": []
  },
  {
   "cell_type": "code",
   "execution_count": 1,
   "id": "ce51d0c9",
   "metadata": {},
   "outputs": [],
   "source": [
    "import pandas as pd\n",
    "import numpy as np\n",
    "import random\n",
    "import seaborn as sns\n",
    "from scipy.stats import norm\n",
    "import matplotlib.pyplot as plt"
   ]
  },
  {
   "cell_type": "code",
   "execution_count": 2,
   "id": "fe4a2a1d",
   "metadata": {},
   "outputs": [],
   "source": [
    "walmart = pd.read_csv('walmart.txt')\n",
    "data = walmart.copy()"
   ]
  },
  {
   "cell_type": "code",
   "execution_count": 3,
   "id": "550a5aed",
   "metadata": {},
   "outputs": [
    {
     "data": {
      "text/html": [
       "<div>\n",
       "<style scoped>\n",
       "    .dataframe tbody tr th:only-of-type {\n",
       "        vertical-align: middle;\n",
       "    }\n",
       "\n",
       "    .dataframe tbody tr th {\n",
       "        vertical-align: top;\n",
       "    }\n",
       "\n",
       "    .dataframe thead th {\n",
       "        text-align: right;\n",
       "    }\n",
       "</style>\n",
       "<table border=\"1\" class=\"dataframe\">\n",
       "  <thead>\n",
       "    <tr style=\"text-align: right;\">\n",
       "      <th></th>\n",
       "      <th>User_ID</th>\n",
       "      <th>Product_ID</th>\n",
       "      <th>Gender</th>\n",
       "      <th>Age</th>\n",
       "      <th>Occupation</th>\n",
       "      <th>City_Category</th>\n",
       "      <th>Stay_In_Current_City_Years</th>\n",
       "      <th>Marital_Status</th>\n",
       "      <th>Product_Category</th>\n",
       "      <th>Purchase</th>\n",
       "    </tr>\n",
       "  </thead>\n",
       "  <tbody>\n",
       "    <tr>\n",
       "      <th>0</th>\n",
       "      <td>1000001</td>\n",
       "      <td>P00069042</td>\n",
       "      <td>F</td>\n",
       "      <td>0-17</td>\n",
       "      <td>10</td>\n",
       "      <td>A</td>\n",
       "      <td>2</td>\n",
       "      <td>0</td>\n",
       "      <td>3</td>\n",
       "      <td>8370</td>\n",
       "    </tr>\n",
       "    <tr>\n",
       "      <th>1</th>\n",
       "      <td>1000001</td>\n",
       "      <td>P00248942</td>\n",
       "      <td>F</td>\n",
       "      <td>0-17</td>\n",
       "      <td>10</td>\n",
       "      <td>A</td>\n",
       "      <td>2</td>\n",
       "      <td>0</td>\n",
       "      <td>1</td>\n",
       "      <td>15200</td>\n",
       "    </tr>\n",
       "    <tr>\n",
       "      <th>2</th>\n",
       "      <td>1000001</td>\n",
       "      <td>P00087842</td>\n",
       "      <td>F</td>\n",
       "      <td>0-17</td>\n",
       "      <td>10</td>\n",
       "      <td>A</td>\n",
       "      <td>2</td>\n",
       "      <td>0</td>\n",
       "      <td>12</td>\n",
       "      <td>1422</td>\n",
       "    </tr>\n",
       "    <tr>\n",
       "      <th>3</th>\n",
       "      <td>1000001</td>\n",
       "      <td>P00085442</td>\n",
       "      <td>F</td>\n",
       "      <td>0-17</td>\n",
       "      <td>10</td>\n",
       "      <td>A</td>\n",
       "      <td>2</td>\n",
       "      <td>0</td>\n",
       "      <td>12</td>\n",
       "      <td>1057</td>\n",
       "    </tr>\n",
       "    <tr>\n",
       "      <th>4</th>\n",
       "      <td>1000002</td>\n",
       "      <td>P00285442</td>\n",
       "      <td>M</td>\n",
       "      <td>55+</td>\n",
       "      <td>16</td>\n",
       "      <td>C</td>\n",
       "      <td>4+</td>\n",
       "      <td>0</td>\n",
       "      <td>8</td>\n",
       "      <td>7969</td>\n",
       "    </tr>\n",
       "    <tr>\n",
       "      <th>...</th>\n",
       "      <td>...</td>\n",
       "      <td>...</td>\n",
       "      <td>...</td>\n",
       "      <td>...</td>\n",
       "      <td>...</td>\n",
       "      <td>...</td>\n",
       "      <td>...</td>\n",
       "      <td>...</td>\n",
       "      <td>...</td>\n",
       "      <td>...</td>\n",
       "    </tr>\n",
       "    <tr>\n",
       "      <th>550063</th>\n",
       "      <td>1006033</td>\n",
       "      <td>P00372445</td>\n",
       "      <td>M</td>\n",
       "      <td>51-55</td>\n",
       "      <td>13</td>\n",
       "      <td>B</td>\n",
       "      <td>1</td>\n",
       "      <td>1</td>\n",
       "      <td>20</td>\n",
       "      <td>368</td>\n",
       "    </tr>\n",
       "    <tr>\n",
       "      <th>550064</th>\n",
       "      <td>1006035</td>\n",
       "      <td>P00375436</td>\n",
       "      <td>F</td>\n",
       "      <td>26-35</td>\n",
       "      <td>1</td>\n",
       "      <td>C</td>\n",
       "      <td>3</td>\n",
       "      <td>0</td>\n",
       "      <td>20</td>\n",
       "      <td>371</td>\n",
       "    </tr>\n",
       "    <tr>\n",
       "      <th>550065</th>\n",
       "      <td>1006036</td>\n",
       "      <td>P00375436</td>\n",
       "      <td>F</td>\n",
       "      <td>26-35</td>\n",
       "      <td>15</td>\n",
       "      <td>B</td>\n",
       "      <td>4+</td>\n",
       "      <td>1</td>\n",
       "      <td>20</td>\n",
       "      <td>137</td>\n",
       "    </tr>\n",
       "    <tr>\n",
       "      <th>550066</th>\n",
       "      <td>1006038</td>\n",
       "      <td>P00375436</td>\n",
       "      <td>F</td>\n",
       "      <td>55+</td>\n",
       "      <td>1</td>\n",
       "      <td>C</td>\n",
       "      <td>2</td>\n",
       "      <td>0</td>\n",
       "      <td>20</td>\n",
       "      <td>365</td>\n",
       "    </tr>\n",
       "    <tr>\n",
       "      <th>550067</th>\n",
       "      <td>1006039</td>\n",
       "      <td>P00371644</td>\n",
       "      <td>F</td>\n",
       "      <td>46-50</td>\n",
       "      <td>0</td>\n",
       "      <td>B</td>\n",
       "      <td>4+</td>\n",
       "      <td>1</td>\n",
       "      <td>20</td>\n",
       "      <td>490</td>\n",
       "    </tr>\n",
       "  </tbody>\n",
       "</table>\n",
       "<p>550068 rows × 10 columns</p>\n",
       "</div>"
      ],
      "text/plain": [
       "        User_ID Product_ID Gender    Age  Occupation City_Category  \\\n",
       "0       1000001  P00069042      F   0-17          10             A   \n",
       "1       1000001  P00248942      F   0-17          10             A   \n",
       "2       1000001  P00087842      F   0-17          10             A   \n",
       "3       1000001  P00085442      F   0-17          10             A   \n",
       "4       1000002  P00285442      M    55+          16             C   \n",
       "...         ...        ...    ...    ...         ...           ...   \n",
       "550063  1006033  P00372445      M  51-55          13             B   \n",
       "550064  1006035  P00375436      F  26-35           1             C   \n",
       "550065  1006036  P00375436      F  26-35          15             B   \n",
       "550066  1006038  P00375436      F    55+           1             C   \n",
       "550067  1006039  P00371644      F  46-50           0             B   \n",
       "\n",
       "       Stay_In_Current_City_Years  Marital_Status  Product_Category  Purchase  \n",
       "0                               2               0                 3      8370  \n",
       "1                               2               0                 1     15200  \n",
       "2                               2               0                12      1422  \n",
       "3                               2               0                12      1057  \n",
       "4                              4+               0                 8      7969  \n",
       "...                           ...             ...               ...       ...  \n",
       "550063                          1               1                20       368  \n",
       "550064                          3               0                20       371  \n",
       "550065                         4+               1                20       137  \n",
       "550066                          2               0                20       365  \n",
       "550067                         4+               1                20       490  \n",
       "\n",
       "[550068 rows x 10 columns]"
      ]
     },
     "execution_count": 3,
     "metadata": {},
     "output_type": "execute_result"
    }
   ],
   "source": [
    "data"
   ]
  },
  {
   "cell_type": "code",
   "execution_count": 4,
   "id": "c5ecd2fa",
   "metadata": {},
   "outputs": [
    {
     "name": "stdout",
     "output_type": "stream",
     "text": [
      "<class 'pandas.core.frame.DataFrame'>\n",
      "RangeIndex: 550068 entries, 0 to 550067\n",
      "Data columns (total 10 columns):\n",
      " #   Column                      Non-Null Count   Dtype \n",
      "---  ------                      --------------   ----- \n",
      " 0   User_ID                     550068 non-null  int64 \n",
      " 1   Product_ID                  550068 non-null  object\n",
      " 2   Gender                      550068 non-null  object\n",
      " 3   Age                         550068 non-null  object\n",
      " 4   Occupation                  550068 non-null  int64 \n",
      " 5   City_Category               550068 non-null  object\n",
      " 6   Stay_In_Current_City_Years  550068 non-null  object\n",
      " 7   Marital_Status              550068 non-null  int64 \n",
      " 8   Product_Category            550068 non-null  int64 \n",
      " 9   Purchase                    550068 non-null  int64 \n",
      "dtypes: int64(5), object(5)\n",
      "memory usage: 42.0+ MB\n"
     ]
    }
   ],
   "source": [
    "data.info()"
   ]
  },
  {
   "cell_type": "code",
   "execution_count": 5,
   "id": "a40d053c",
   "metadata": {},
   "outputs": [
    {
     "data": {
      "text/html": [
       "<div>\n",
       "<style scoped>\n",
       "    .dataframe tbody tr th:only-of-type {\n",
       "        vertical-align: middle;\n",
       "    }\n",
       "\n",
       "    .dataframe tbody tr th {\n",
       "        vertical-align: top;\n",
       "    }\n",
       "\n",
       "    .dataframe thead th {\n",
       "        text-align: right;\n",
       "    }\n",
       "</style>\n",
       "<table border=\"1\" class=\"dataframe\">\n",
       "  <thead>\n",
       "    <tr style=\"text-align: right;\">\n",
       "      <th></th>\n",
       "      <th>User_ID</th>\n",
       "      <th>Product_ID</th>\n",
       "      <th>Gender</th>\n",
       "      <th>Age</th>\n",
       "      <th>Occupation</th>\n",
       "      <th>City_Category</th>\n",
       "      <th>Stay_In_Current_City_Years</th>\n",
       "      <th>Marital_Status</th>\n",
       "      <th>Product_Category</th>\n",
       "      <th>Purchase</th>\n",
       "    </tr>\n",
       "  </thead>\n",
       "  <tbody>\n",
       "    <tr>\n",
       "      <th>count</th>\n",
       "      <td>5.500680e+05</td>\n",
       "      <td>550068</td>\n",
       "      <td>550068</td>\n",
       "      <td>550068</td>\n",
       "      <td>550068.000000</td>\n",
       "      <td>550068</td>\n",
       "      <td>550068</td>\n",
       "      <td>550068.000000</td>\n",
       "      <td>550068.000000</td>\n",
       "      <td>550068.000000</td>\n",
       "    </tr>\n",
       "    <tr>\n",
       "      <th>unique</th>\n",
       "      <td>NaN</td>\n",
       "      <td>3631</td>\n",
       "      <td>2</td>\n",
       "      <td>7</td>\n",
       "      <td>NaN</td>\n",
       "      <td>3</td>\n",
       "      <td>5</td>\n",
       "      <td>NaN</td>\n",
       "      <td>NaN</td>\n",
       "      <td>NaN</td>\n",
       "    </tr>\n",
       "    <tr>\n",
       "      <th>top</th>\n",
       "      <td>NaN</td>\n",
       "      <td>P00265242</td>\n",
       "      <td>M</td>\n",
       "      <td>26-35</td>\n",
       "      <td>NaN</td>\n",
       "      <td>B</td>\n",
       "      <td>1</td>\n",
       "      <td>NaN</td>\n",
       "      <td>NaN</td>\n",
       "      <td>NaN</td>\n",
       "    </tr>\n",
       "    <tr>\n",
       "      <th>freq</th>\n",
       "      <td>NaN</td>\n",
       "      <td>1880</td>\n",
       "      <td>414259</td>\n",
       "      <td>219587</td>\n",
       "      <td>NaN</td>\n",
       "      <td>231173</td>\n",
       "      <td>193821</td>\n",
       "      <td>NaN</td>\n",
       "      <td>NaN</td>\n",
       "      <td>NaN</td>\n",
       "    </tr>\n",
       "    <tr>\n",
       "      <th>mean</th>\n",
       "      <td>1.003029e+06</td>\n",
       "      <td>NaN</td>\n",
       "      <td>NaN</td>\n",
       "      <td>NaN</td>\n",
       "      <td>8.076707</td>\n",
       "      <td>NaN</td>\n",
       "      <td>NaN</td>\n",
       "      <td>0.409653</td>\n",
       "      <td>5.404270</td>\n",
       "      <td>9263.968713</td>\n",
       "    </tr>\n",
       "    <tr>\n",
       "      <th>std</th>\n",
       "      <td>1.727592e+03</td>\n",
       "      <td>NaN</td>\n",
       "      <td>NaN</td>\n",
       "      <td>NaN</td>\n",
       "      <td>6.522660</td>\n",
       "      <td>NaN</td>\n",
       "      <td>NaN</td>\n",
       "      <td>0.491770</td>\n",
       "      <td>3.936211</td>\n",
       "      <td>5023.065394</td>\n",
       "    </tr>\n",
       "    <tr>\n",
       "      <th>min</th>\n",
       "      <td>1.000001e+06</td>\n",
       "      <td>NaN</td>\n",
       "      <td>NaN</td>\n",
       "      <td>NaN</td>\n",
       "      <td>0.000000</td>\n",
       "      <td>NaN</td>\n",
       "      <td>NaN</td>\n",
       "      <td>0.000000</td>\n",
       "      <td>1.000000</td>\n",
       "      <td>12.000000</td>\n",
       "    </tr>\n",
       "    <tr>\n",
       "      <th>25%</th>\n",
       "      <td>1.001516e+06</td>\n",
       "      <td>NaN</td>\n",
       "      <td>NaN</td>\n",
       "      <td>NaN</td>\n",
       "      <td>2.000000</td>\n",
       "      <td>NaN</td>\n",
       "      <td>NaN</td>\n",
       "      <td>0.000000</td>\n",
       "      <td>1.000000</td>\n",
       "      <td>5823.000000</td>\n",
       "    </tr>\n",
       "    <tr>\n",
       "      <th>50%</th>\n",
       "      <td>1.003077e+06</td>\n",
       "      <td>NaN</td>\n",
       "      <td>NaN</td>\n",
       "      <td>NaN</td>\n",
       "      <td>7.000000</td>\n",
       "      <td>NaN</td>\n",
       "      <td>NaN</td>\n",
       "      <td>0.000000</td>\n",
       "      <td>5.000000</td>\n",
       "      <td>8047.000000</td>\n",
       "    </tr>\n",
       "    <tr>\n",
       "      <th>75%</th>\n",
       "      <td>1.004478e+06</td>\n",
       "      <td>NaN</td>\n",
       "      <td>NaN</td>\n",
       "      <td>NaN</td>\n",
       "      <td>14.000000</td>\n",
       "      <td>NaN</td>\n",
       "      <td>NaN</td>\n",
       "      <td>1.000000</td>\n",
       "      <td>8.000000</td>\n",
       "      <td>12054.000000</td>\n",
       "    </tr>\n",
       "    <tr>\n",
       "      <th>max</th>\n",
       "      <td>1.006040e+06</td>\n",
       "      <td>NaN</td>\n",
       "      <td>NaN</td>\n",
       "      <td>NaN</td>\n",
       "      <td>20.000000</td>\n",
       "      <td>NaN</td>\n",
       "      <td>NaN</td>\n",
       "      <td>1.000000</td>\n",
       "      <td>20.000000</td>\n",
       "      <td>23961.000000</td>\n",
       "    </tr>\n",
       "  </tbody>\n",
       "</table>\n",
       "</div>"
      ],
      "text/plain": [
       "             User_ID Product_ID  Gender     Age     Occupation City_Category  \\\n",
       "count   5.500680e+05     550068  550068  550068  550068.000000        550068   \n",
       "unique           NaN       3631       2       7            NaN             3   \n",
       "top              NaN  P00265242       M   26-35            NaN             B   \n",
       "freq             NaN       1880  414259  219587            NaN        231173   \n",
       "mean    1.003029e+06        NaN     NaN     NaN       8.076707           NaN   \n",
       "std     1.727592e+03        NaN     NaN     NaN       6.522660           NaN   \n",
       "min     1.000001e+06        NaN     NaN     NaN       0.000000           NaN   \n",
       "25%     1.001516e+06        NaN     NaN     NaN       2.000000           NaN   \n",
       "50%     1.003077e+06        NaN     NaN     NaN       7.000000           NaN   \n",
       "75%     1.004478e+06        NaN     NaN     NaN      14.000000           NaN   \n",
       "max     1.006040e+06        NaN     NaN     NaN      20.000000           NaN   \n",
       "\n",
       "       Stay_In_Current_City_Years  Marital_Status  Product_Category  \\\n",
       "count                      550068   550068.000000     550068.000000   \n",
       "unique                          5             NaN               NaN   \n",
       "top                             1             NaN               NaN   \n",
       "freq                       193821             NaN               NaN   \n",
       "mean                          NaN        0.409653          5.404270   \n",
       "std                           NaN        0.491770          3.936211   \n",
       "min                           NaN        0.000000          1.000000   \n",
       "25%                           NaN        0.000000          1.000000   \n",
       "50%                           NaN        0.000000          5.000000   \n",
       "75%                           NaN        1.000000          8.000000   \n",
       "max                           NaN        1.000000         20.000000   \n",
       "\n",
       "             Purchase  \n",
       "count   550068.000000  \n",
       "unique            NaN  \n",
       "top               NaN  \n",
       "freq              NaN  \n",
       "mean      9263.968713  \n",
       "std       5023.065394  \n",
       "min         12.000000  \n",
       "25%       5823.000000  \n",
       "50%       8047.000000  \n",
       "75%      12054.000000  \n",
       "max      23961.000000  "
      ]
     },
     "execution_count": 5,
     "metadata": {},
     "output_type": "execute_result"
    }
   ],
   "source": [
    "data.describe(include='all')"
   ]
  },
  {
   "cell_type": "code",
   "execution_count": 6,
   "id": "d0b1125b",
   "metadata": {},
   "outputs": [
    {
     "data": {
      "text/plain": [
       "User_ID                       0\n",
       "Product_ID                    0\n",
       "Gender                        0\n",
       "Age                           0\n",
       "Occupation                    0\n",
       "City_Category                 0\n",
       "Stay_In_Current_City_Years    0\n",
       "Marital_Status                0\n",
       "Product_Category              0\n",
       "Purchase                      0\n",
       "dtype: int64"
      ]
     },
     "execution_count": 6,
     "metadata": {},
     "output_type": "execute_result"
    }
   ],
   "source": [
    "data.isnull().sum()"
   ]
  },
  {
   "cell_type": "markdown",
   "id": "f3adabd8",
   "metadata": {},
   "source": [
    "#### THERE ARE NO NULL VALUES"
   ]
  },
  {
   "cell_type": "code",
   "execution_count": null,
   "id": "eb54ec6b",
   "metadata": {},
   "outputs": [],
   "source": []
  },
  {
   "cell_type": "code",
   "execution_count": 7,
   "id": "4134959d",
   "metadata": {},
   "outputs": [
    {
     "data": {
      "text/plain": [
       "1666"
      ]
     },
     "execution_count": 7,
     "metadata": {},
     "output_type": "execute_result"
    }
   ],
   "source": [
    "data[data['Gender']=='F']['User_ID'].nunique()"
   ]
  },
  {
   "cell_type": "code",
   "execution_count": 8,
   "id": "a86b306a",
   "metadata": {},
   "outputs": [
    {
     "data": {
      "text/plain": [
       "4225"
      ]
     },
     "execution_count": 8,
     "metadata": {},
     "output_type": "execute_result"
    }
   ],
   "source": [
    "data[data['Gender']=='M']['User_ID'].nunique()"
   ]
  },
  {
   "cell_type": "code",
   "execution_count": null,
   "id": "db795547",
   "metadata": {},
   "outputs": [],
   "source": []
  },
  {
   "cell_type": "code",
   "execution_count": null,
   "id": "c0e425e2",
   "metadata": {},
   "outputs": [],
   "source": []
  },
  {
   "cell_type": "code",
   "execution_count": 9,
   "id": "88b9f348",
   "metadata": {},
   "outputs": [
    {
     "data": {
      "image/png": "[encoded data removed]",
      "text/plain": [
       "<Figure size 504x432 with 1 Axes>"
      ]
     },
     "metadata": {
      "needs_background": "light"
     },
     "output_type": "display_data"
    }
   ],
   "source": [
    "plt.figure(figsize=(7,6))\n",
    "sns.countplot(data=data,x='Gender')\n",
    "plt.title('COUNT OF TRANSACTION WITH RESPECT TO GENDER')\n",
    "\n",
    "plt.show()"
   ]
  },
  {
   "cell_type": "code",
   "execution_count": null,
   "id": "78fa2078",
   "metadata": {},
   "outputs": [],
   "source": []
  },
  {
   "cell_type": "code",
   "execution_count": null,
   "id": "359f708c",
   "metadata": {},
   "outputs": [],
   "source": []
  },
  {
   "cell_type": "code",
   "execution_count": 10,
   "id": "ec7bbab3",
   "metadata": {},
   "outputs": [
    {
     "data": {
      "image/png": "[encoded data removed]",
      "text/plain": [
       "<Figure size 504x432 with 1 Axes>"
      ]
     },
     "metadata": {
      "needs_background": "light"
     },
     "output_type": "display_data"
    }
   ],
   "source": [
    "plt.figure(figsize=(7,6))\n",
    "sns.countplot(data=data,x='Marital_Status')\n",
    "plt.title('COUNT OF TRANSACTION WITH RESPECT TO MARITAL STATUS')\n",
    "plt.show()"
   ]
  },
  {
   "cell_type": "code",
   "execution_count": null,
   "id": "16683169",
   "metadata": {},
   "outputs": [],
   "source": []
  },
  {
   "cell_type": "code",
   "execution_count": 11,
   "id": "9159d401",
   "metadata": {},
   "outputs": [
    {
     "data": {
      "text/html": [
       "<div>\n",
       "<style scoped>\n",
       "    .dataframe tbody tr th:only-of-type {\n",
       "        vertical-align: middle;\n",
       "    }\n",
       "\n",
       "    .dataframe tbody tr th {\n",
       "        vertical-align: top;\n",
       "    }\n",
       "\n",
       "    .dataframe thead th {\n",
       "        text-align: right;\n",
       "    }\n",
       "</style>\n",
       "<table border=\"1\" class=\"dataframe\">\n",
       "  <thead>\n",
       "    <tr style=\"text-align: right;\">\n",
       "      <th></th>\n",
       "      <th>age</th>\n",
       "      <th>counts</th>\n",
       "    </tr>\n",
       "  </thead>\n",
       "  <tbody>\n",
       "    <tr>\n",
       "      <th>0</th>\n",
       "      <td>26-35</td>\n",
       "      <td>219587</td>\n",
       "    </tr>\n",
       "    <tr>\n",
       "      <th>1</th>\n",
       "      <td>36-45</td>\n",
       "      <td>110013</td>\n",
       "    </tr>\n",
       "    <tr>\n",
       "      <th>2</th>\n",
       "      <td>18-25</td>\n",
       "      <td>99660</td>\n",
       "    </tr>\n",
       "    <tr>\n",
       "      <th>3</th>\n",
       "      <td>46-50</td>\n",
       "      <td>45701</td>\n",
       "    </tr>\n",
       "    <tr>\n",
       "      <th>4</th>\n",
       "      <td>51-55</td>\n",
       "      <td>38501</td>\n",
       "    </tr>\n",
       "    <tr>\n",
       "      <th>5</th>\n",
       "      <td>55+</td>\n",
       "      <td>21504</td>\n",
       "    </tr>\n",
       "    <tr>\n",
       "      <th>6</th>\n",
       "      <td>0-17</td>\n",
       "      <td>15102</td>\n",
       "    </tr>\n",
       "  </tbody>\n",
       "</table>\n",
       "</div>"
      ],
      "text/plain": [
       "     age  counts\n",
       "0  26-35  219587\n",
       "1  36-45  110013\n",
       "2  18-25   99660\n",
       "3  46-50   45701\n",
       "4  51-55   38501\n",
       "5    55+   21504\n",
       "6   0-17   15102"
      ]
     },
     "execution_count": 11,
     "metadata": {},
     "output_type": "execute_result"
    }
   ],
   "source": [
    "data['Age'].value_counts().reset_index().rename(columns={'index':'age','Age':'counts'})"
   ]
  },
  {
   "cell_type": "code",
   "execution_count": 12,
   "id": "ab36afc1",
   "metadata": {},
   "outputs": [
    {
     "data": {
      "text/html": [
       "<div>\n",
       "<style scoped>\n",
       "    .dataframe tbody tr th:only-of-type {\n",
       "        vertical-align: middle;\n",
       "    }\n",
       "\n",
       "    .dataframe tbody tr th {\n",
       "        vertical-align: top;\n",
       "    }\n",
       "\n",
       "    .dataframe thead th {\n",
       "        text-align: right;\n",
       "    }\n",
       "</style>\n",
       "<table border=\"1\" class=\"dataframe\">\n",
       "  <thead>\n",
       "    <tr style=\"text-align: right;\">\n",
       "      <th></th>\n",
       "      <th>age</th>\n",
       "      <th>percent</th>\n",
       "    </tr>\n",
       "  </thead>\n",
       "  <tbody>\n",
       "    <tr>\n",
       "      <th>0</th>\n",
       "      <td>26-35</td>\n",
       "      <td>0.399200</td>\n",
       "    </tr>\n",
       "    <tr>\n",
       "      <th>1</th>\n",
       "      <td>36-45</td>\n",
       "      <td>0.199999</td>\n",
       "    </tr>\n",
       "    <tr>\n",
       "      <th>2</th>\n",
       "      <td>18-25</td>\n",
       "      <td>0.181178</td>\n",
       "    </tr>\n",
       "    <tr>\n",
       "      <th>3</th>\n",
       "      <td>46-50</td>\n",
       "      <td>0.083082</td>\n",
       "    </tr>\n",
       "    <tr>\n",
       "      <th>4</th>\n",
       "      <td>51-55</td>\n",
       "      <td>0.069993</td>\n",
       "    </tr>\n",
       "    <tr>\n",
       "      <th>5</th>\n",
       "      <td>55+</td>\n",
       "      <td>0.039093</td>\n",
       "    </tr>\n",
       "    <tr>\n",
       "      <th>6</th>\n",
       "      <td>0-17</td>\n",
       "      <td>0.027455</td>\n",
       "    </tr>\n",
       "  </tbody>\n",
       "</table>\n",
       "</div>"
      ],
      "text/plain": [
       "     age   percent\n",
       "0  26-35  0.399200\n",
       "1  36-45  0.199999\n",
       "2  18-25  0.181178\n",
       "3  46-50  0.083082\n",
       "4  51-55  0.069993\n",
       "5    55+  0.039093\n",
       "6   0-17  0.027455"
      ]
     },
     "execution_count": 12,
     "metadata": {},
     "output_type": "execute_result"
    }
   ],
   "source": [
    "age_percent =  data['Age'].value_counts(normalize=True).reset_index().rename(columns={'index':'age','Age':'percent'})\n",
    "age_percent"
   ]
  },
  {
   "cell_type": "code",
   "execution_count": 13,
   "id": "5e78c3b2",
   "metadata": {},
   "outputs": [
    {
     "data": {
      "image/png": "[encoded data removed]",
      "text/plain": [
       "<Figure size 504x432 with 1 Axes>"
      ]
     },
     "metadata": {
      "needs_background": "light"
     },
     "output_type": "display_data"
    }
   ],
   "source": [
    "plt.figure(figsize=(7,6))\n",
    "sns.countplot(data=data,x='Age')\n",
    "plt.show()"
   ]
  },
  {
   "cell_type": "code",
   "execution_count": null,
   "id": "0632f840",
   "metadata": {},
   "outputs": [],
   "source": []
  },
  {
   "cell_type": "code",
   "execution_count": null,
   "id": "5e331935",
   "metadata": {},
   "outputs": [],
   "source": []
  },
  {
   "cell_type": "code",
   "execution_count": 14,
   "id": "2a11e7c9",
   "metadata": {},
   "outputs": [
    {
     "data": {
      "text/plain": [
       "26-35    0.373701\n",
       "36-45    0.200060\n",
       "18-25    0.181343\n",
       "46-50    0.097188\n",
       "51-55    0.072852\n",
       "0-17     0.037428\n",
       "55+      0.037428\n",
       "Name: Age, dtype: float64"
      ]
     },
     "execution_count": 14,
     "metadata": {},
     "output_type": "execute_result"
    }
   ],
   "source": [
    "data[data['Gender']=='F']['Age'].value_counts(normalize=True)"
   ]
  },
  {
   "cell_type": "code",
   "execution_count": 15,
   "id": "8d9d123d",
   "metadata": {},
   "outputs": [
    {
     "data": {
      "text/plain": [
       "26-35    0.407559\n",
       "36-45    0.199979\n",
       "18-25    0.181123\n",
       "46-50    0.078458\n",
       "51-55    0.069056\n",
       "55+      0.039639\n",
       "0-17     0.024185\n",
       "Name: Age, dtype: float64"
      ]
     },
     "execution_count": 15,
     "metadata": {},
     "output_type": "execute_result"
    }
   ],
   "source": [
    "data[data['Gender']=='M']['Age'].value_counts(normalize=True)"
   ]
  },
  {
   "cell_type": "code",
   "execution_count": 16,
   "id": "d56ee04c",
   "metadata": {},
   "outputs": [
    {
     "data": {
      "image/png": "[encoded data removed]",
      "text/plain": [
       "<Figure size 504x432 with 1 Axes>"
      ]
     },
     "metadata": {
      "needs_background": "light"
     },
     "output_type": "display_data"
    }
   ],
   "source": [
    "plt.figure(figsize=(7,6))\n",
    "\n",
    "sns.countplot(data=data[data['Gender']=='M'],x='Age')\n",
    "plt.title('COUNTS OF AGE IN MALE DATA')\n",
    "plt.show()"
   ]
  },
  {
   "cell_type": "code",
   "execution_count": 17,
   "id": "8a492f4a",
   "metadata": {},
   "outputs": [
    {
     "data": {
      "image/png": "[encoded data removed]",
      "text/plain": [
       "<Figure size 504x432 with 1 Axes>"
      ]
     },
     "metadata": {
      "needs_background": "light"
     },
     "output_type": "display_data"
    }
   ],
   "source": [
    "plt.figure(figsize=(7,6))\n",
    "sns.countplot(data=data[data['Gender']=='F'],x='Age')\n",
    "plt.title('COUNTS OF AGE IN FEMALE DATA')\n",
    "\n",
    "plt.show()"
   ]
  },
  {
   "cell_type": "code",
   "execution_count": null,
   "id": "b7d97ce2",
   "metadata": {},
   "outputs": [],
   "source": []
  },
  {
   "cell_type": "code",
   "execution_count": 18,
   "id": "b3cc8299",
   "metadata": {},
   "outputs": [
    {
     "data": {
      "image/png": "[encoded data removed]",
      "text/plain": [
       "<Figure size 864x360 with 1 Axes>"
      ]
     },
     "metadata": {
      "needs_background": "light"
     },
     "output_type": "display_data"
    }
   ],
   "source": [
    "plt.figure(figsize=(12, 5))\n",
    "sns.countplot(data=data, x='Product_Category')\n",
    "plt.title('COUNT OF PRODUCT CATEGORY')\n",
    "plt.show()"
   ]
  },
  {
   "cell_type": "code",
   "execution_count": null,
   "id": "817bbda8",
   "metadata": {},
   "outputs": [],
   "source": []
  },
  {
   "cell_type": "code",
   "execution_count": 19,
   "id": "d03a75d6",
   "metadata": {},
   "outputs": [
    {
     "data": {
      "image/png": "[encoded data removed]",
      "text/plain": [
       "<Figure size 864x360 with 1 Axes>"
      ]
     },
     "metadata": {
      "needs_background": "light"
     },
     "output_type": "display_data"
    }
   ],
   "source": [
    "plt.figure(figsize=(12, 5))\n",
    "sns.countplot(data=data, x='Occupation')\n",
    "plt.title('COUNT OF PRODUCT CATEGORY')\n",
    "plt.show()"
   ]
  },
  {
   "cell_type": "code",
   "execution_count": null,
   "id": "07c455ec",
   "metadata": {},
   "outputs": [],
   "source": []
  },
  {
   "cell_type": "code",
   "execution_count": 20,
   "id": "2dc450f7",
   "metadata": {
    "scrolled": true
   },
   "outputs": [
    {
     "data": {
      "text/plain": [
       "User_ID  City_Category  City_Category\n",
       "1000001  A              A                 35\n",
       "1000002  C              C                 77\n",
       "1000003  A              A                 29\n",
       "1000004  B              B                 14\n",
       "1000005  A              A                106\n",
       "                                        ... \n",
       "1006036  B              B                514\n",
       "1006037  C              C                122\n",
       "1006038  C              C                 12\n",
       "1006039  B              B                 74\n",
       "1006040  B              B                180\n",
       "Name: City_Category, Length: 5891, dtype: int64"
      ]
     },
     "execution_count": 20,
     "metadata": {},
     "output_type": "execute_result"
    }
   ],
   "source": [
    "data.groupby(['User_ID','City_Category'])['City_Category'].value_counts()"
   ]
  },
  {
   "cell_type": "code",
   "execution_count": 21,
   "id": "c6a4b522",
   "metadata": {},
   "outputs": [
    {
     "data": {
      "text/html": [
       "<div>\n",
       "<style scoped>\n",
       "    .dataframe tbody tr th:only-of-type {\n",
       "        vertical-align: middle;\n",
       "    }\n",
       "\n",
       "    .dataframe tbody tr th {\n",
       "        vertical-align: top;\n",
       "    }\n",
       "\n",
       "    .dataframe thead th {\n",
       "        text-align: right;\n",
       "    }\n",
       "</style>\n",
       "<table border=\"1\" class=\"dataframe\">\n",
       "  <thead>\n",
       "    <tr style=\"text-align: right;\">\n",
       "      <th></th>\n",
       "      <th></th>\n",
       "      <th></th>\n",
       "      <th>City_Category</th>\n",
       "    </tr>\n",
       "    <tr>\n",
       "      <th>User_ID</th>\n",
       "      <th>City_Category</th>\n",
       "      <th>City_Category</th>\n",
       "      <th></th>\n",
       "    </tr>\n",
       "  </thead>\n",
       "  <tbody>\n",
       "    <tr>\n",
       "      <th>1000001</th>\n",
       "      <th>A</th>\n",
       "      <th>A</th>\n",
       "      <td>35</td>\n",
       "    </tr>\n",
       "    <tr>\n",
       "      <th>1000002</th>\n",
       "      <th>C</th>\n",
       "      <th>C</th>\n",
       "      <td>77</td>\n",
       "    </tr>\n",
       "    <tr>\n",
       "      <th>1000003</th>\n",
       "      <th>A</th>\n",
       "      <th>A</th>\n",
       "      <td>29</td>\n",
       "    </tr>\n",
       "    <tr>\n",
       "      <th>1000004</th>\n",
       "      <th>B</th>\n",
       "      <th>B</th>\n",
       "      <td>14</td>\n",
       "    </tr>\n",
       "    <tr>\n",
       "      <th>1000005</th>\n",
       "      <th>A</th>\n",
       "      <th>A</th>\n",
       "      <td>106</td>\n",
       "    </tr>\n",
       "    <tr>\n",
       "      <th>...</th>\n",
       "      <th>...</th>\n",
       "      <th>...</th>\n",
       "      <td>...</td>\n",
       "    </tr>\n",
       "    <tr>\n",
       "      <th>1006036</th>\n",
       "      <th>B</th>\n",
       "      <th>B</th>\n",
       "      <td>514</td>\n",
       "    </tr>\n",
       "    <tr>\n",
       "      <th>1006037</th>\n",
       "      <th>C</th>\n",
       "      <th>C</th>\n",
       "      <td>122</td>\n",
       "    </tr>\n",
       "    <tr>\n",
       "      <th>1006038</th>\n",
       "      <th>C</th>\n",
       "      <th>C</th>\n",
       "      <td>12</td>\n",
       "    </tr>\n",
       "    <tr>\n",
       "      <th>1006039</th>\n",
       "      <th>B</th>\n",
       "      <th>B</th>\n",
       "      <td>74</td>\n",
       "    </tr>\n",
       "    <tr>\n",
       "      <th>1006040</th>\n",
       "      <th>B</th>\n",
       "      <th>B</th>\n",
       "      <td>180</td>\n",
       "    </tr>\n",
       "  </tbody>\n",
       "</table>\n",
       "<p>5891 rows × 1 columns</p>\n",
       "</div>"
      ],
      "text/plain": [
       "                                     City_Category\n",
       "User_ID City_Category City_Category               \n",
       "1000001 A             A                         35\n",
       "1000002 C             C                         77\n",
       "1000003 A             A                         29\n",
       "1000004 B             B                         14\n",
       "1000005 A             A                        106\n",
       "...                                            ...\n",
       "1006036 B             B                        514\n",
       "1006037 C             C                        122\n",
       "1006038 C             C                         12\n",
       "1006039 B             B                         74\n",
       "1006040 B             B                        180\n",
       "\n",
       "[5891 rows x 1 columns]"
      ]
     },
     "execution_count": 21,
     "metadata": {},
     "output_type": "execute_result"
    }
   ],
   "source": [
    "data.groupby(['User_ID','City_Category'])['City_Category'].value_counts().to_frame()"
   ]
  },
  {
   "cell_type": "code",
   "execution_count": 22,
   "id": "262f7d16",
   "metadata": {},
   "outputs": [
    {
     "data": {
      "text/plain": [
       "User_ID  City_Category\n",
       "1000001  A                1\n",
       "1000002  C                1\n",
       "1000003  A                1\n",
       "1000004  B                1\n",
       "1000005  A                1\n",
       "                         ..\n",
       "1006036  B                1\n",
       "1006037  C                1\n",
       "1006038  C                1\n",
       "1006039  B                1\n",
       "1006040  B                1\n",
       "Name: City_Category, Length: 5891, dtype: int64"
      ]
     },
     "execution_count": 22,
     "metadata": {},
     "output_type": "execute_result"
    }
   ],
   "source": [
    "data.groupby(['User_ID','City_Category'])['City_Category'].nunique()"
   ]
  },
  {
   "cell_type": "code",
   "execution_count": 23,
   "id": "69c82a6a",
   "metadata": {},
   "outputs": [
    {
     "data": {
      "text/plain": [
       "pandas.core.series.Series"
      ]
     },
     "execution_count": 23,
     "metadata": {},
     "output_type": "execute_result"
    }
   ],
   "source": [
    "type(data.groupby(['User_ID','City_Category'])['City_Category'].nunique())"
   ]
  },
  {
   "cell_type": "code",
   "execution_count": 24,
   "id": "97addfd4",
   "metadata": {},
   "outputs": [
    {
     "data": {
      "text/html": [
       "<div>\n",
       "<style scoped>\n",
       "    .dataframe tbody tr th:only-of-type {\n",
       "        vertical-align: middle;\n",
       "    }\n",
       "\n",
       "    .dataframe tbody tr th {\n",
       "        vertical-align: top;\n",
       "    }\n",
       "\n",
       "    .dataframe thead th {\n",
       "        text-align: right;\n",
       "    }\n",
       "</style>\n",
       "<table border=\"1\" class=\"dataframe\">\n",
       "  <thead>\n",
       "    <tr style=\"text-align: right;\">\n",
       "      <th></th>\n",
       "      <th></th>\n",
       "      <th>City_Category</th>\n",
       "    </tr>\n",
       "    <tr>\n",
       "      <th>User_ID</th>\n",
       "      <th>City_Category</th>\n",
       "      <th></th>\n",
       "    </tr>\n",
       "  </thead>\n",
       "  <tbody>\n",
       "    <tr>\n",
       "      <th>1000001</th>\n",
       "      <th>A</th>\n",
       "      <td>1</td>\n",
       "    </tr>\n",
       "    <tr>\n",
       "      <th>1000002</th>\n",
       "      <th>C</th>\n",
       "      <td>1</td>\n",
       "    </tr>\n",
       "    <tr>\n",
       "      <th>1000003</th>\n",
       "      <th>A</th>\n",
       "      <td>1</td>\n",
       "    </tr>\n",
       "    <tr>\n",
       "      <th>1000004</th>\n",
       "      <th>B</th>\n",
       "      <td>1</td>\n",
       "    </tr>\n",
       "    <tr>\n",
       "      <th>1000005</th>\n",
       "      <th>A</th>\n",
       "      <td>1</td>\n",
       "    </tr>\n",
       "    <tr>\n",
       "      <th>...</th>\n",
       "      <th>...</th>\n",
       "      <td>...</td>\n",
       "    </tr>\n",
       "    <tr>\n",
       "      <th>1006036</th>\n",
       "      <th>B</th>\n",
       "      <td>1</td>\n",
       "    </tr>\n",
       "    <tr>\n",
       "      <th>1006037</th>\n",
       "      <th>C</th>\n",
       "      <td>1</td>\n",
       "    </tr>\n",
       "    <tr>\n",
       "      <th>1006038</th>\n",
       "      <th>C</th>\n",
       "      <td>1</td>\n",
       "    </tr>\n",
       "    <tr>\n",
       "      <th>1006039</th>\n",
       "      <th>B</th>\n",
       "      <td>1</td>\n",
       "    </tr>\n",
       "    <tr>\n",
       "      <th>1006040</th>\n",
       "      <th>B</th>\n",
       "      <td>1</td>\n",
       "    </tr>\n",
       "  </tbody>\n",
       "</table>\n",
       "<p>5891 rows × 1 columns</p>\n",
       "</div>"
      ],
      "text/plain": [
       "                       City_Category\n",
       "User_ID City_Category               \n",
       "1000001 A                          1\n",
       "1000002 C                          1\n",
       "1000003 A                          1\n",
       "1000004 B                          1\n",
       "1000005 A                          1\n",
       "...                              ...\n",
       "1006036 B                          1\n",
       "1006037 C                          1\n",
       "1006038 C                          1\n",
       "1006039 B                          1\n",
       "1006040 B                          1\n",
       "\n",
       "[5891 rows x 1 columns]"
      ]
     },
     "execution_count": 24,
     "metadata": {},
     "output_type": "execute_result"
    }
   ],
   "source": [
    "data.groupby(['User_ID','City_Category'])['City_Category'].nunique().to_frame()"
   ]
  },
  {
   "cell_type": "code",
   "execution_count": 25,
   "id": "d72d94e3",
   "metadata": {},
   "outputs": [
    {
     "data": {
      "text/html": [
       "<div>\n",
       "<style scoped>\n",
       "    .dataframe tbody tr th:only-of-type {\n",
       "        vertical-align: middle;\n",
       "    }\n",
       "\n",
       "    .dataframe tbody tr th {\n",
       "        vertical-align: top;\n",
       "    }\n",
       "\n",
       "    .dataframe thead th {\n",
       "        text-align: right;\n",
       "    }\n",
       "</style>\n",
       "<table border=\"1\" class=\"dataframe\">\n",
       "  <thead>\n",
       "    <tr style=\"text-align: right;\">\n",
       "      <th></th>\n",
       "      <th></th>\n",
       "      <th>count</th>\n",
       "    </tr>\n",
       "    <tr>\n",
       "      <th>User_ID</th>\n",
       "      <th>City_Category</th>\n",
       "      <th></th>\n",
       "    </tr>\n",
       "  </thead>\n",
       "  <tbody>\n",
       "    <tr>\n",
       "      <th>1000001</th>\n",
       "      <th>A</th>\n",
       "      <td>1</td>\n",
       "    </tr>\n",
       "    <tr>\n",
       "      <th>1000002</th>\n",
       "      <th>C</th>\n",
       "      <td>1</td>\n",
       "    </tr>\n",
       "    <tr>\n",
       "      <th>1000003</th>\n",
       "      <th>A</th>\n",
       "      <td>1</td>\n",
       "    </tr>\n",
       "    <tr>\n",
       "      <th>1000004</th>\n",
       "      <th>B</th>\n",
       "      <td>1</td>\n",
       "    </tr>\n",
       "    <tr>\n",
       "      <th>1000005</th>\n",
       "      <th>A</th>\n",
       "      <td>1</td>\n",
       "    </tr>\n",
       "    <tr>\n",
       "      <th>...</th>\n",
       "      <th>...</th>\n",
       "      <td>...</td>\n",
       "    </tr>\n",
       "    <tr>\n",
       "      <th>1006036</th>\n",
       "      <th>B</th>\n",
       "      <td>1</td>\n",
       "    </tr>\n",
       "    <tr>\n",
       "      <th>1006037</th>\n",
       "      <th>C</th>\n",
       "      <td>1</td>\n",
       "    </tr>\n",
       "    <tr>\n",
       "      <th>1006038</th>\n",
       "      <th>C</th>\n",
       "      <td>1</td>\n",
       "    </tr>\n",
       "    <tr>\n",
       "      <th>1006039</th>\n",
       "      <th>B</th>\n",
       "      <td>1</td>\n",
       "    </tr>\n",
       "    <tr>\n",
       "      <th>1006040</th>\n",
       "      <th>B</th>\n",
       "      <td>1</td>\n",
       "    </tr>\n",
       "  </tbody>\n",
       "</table>\n",
       "<p>5891 rows × 1 columns</p>\n",
       "</div>"
      ],
      "text/plain": [
       "                       count\n",
       "User_ID City_Category       \n",
       "1000001 A                  1\n",
       "1000002 C                  1\n",
       "1000003 A                  1\n",
       "1000004 B                  1\n",
       "1000005 A                  1\n",
       "...                      ...\n",
       "1006036 B                  1\n",
       "1006037 C                  1\n",
       "1006038 C                  1\n",
       "1006039 B                  1\n",
       "1006040 B                  1\n",
       "\n",
       "[5891 rows x 1 columns]"
      ]
     },
     "execution_count": 25,
     "metadata": {},
     "output_type": "execute_result"
    }
   ],
   "source": [
    "data.groupby(['User_ID','City_Category'])['City_Category'].nunique().to_frame(name='count')"
   ]
  },
  {
   "cell_type": "code",
   "execution_count": 26,
   "id": "fef3400d",
   "metadata": {},
   "outputs": [
    {
     "data": {
      "text/html": [
       "<div>\n",
       "<style scoped>\n",
       "    .dataframe tbody tr th:only-of-type {\n",
       "        vertical-align: middle;\n",
       "    }\n",
       "\n",
       "    .dataframe tbody tr th {\n",
       "        vertical-align: top;\n",
       "    }\n",
       "\n",
       "    .dataframe thead th {\n",
       "        text-align: right;\n",
       "    }\n",
       "</style>\n",
       "<table border=\"1\" class=\"dataframe\">\n",
       "  <thead>\n",
       "    <tr style=\"text-align: right;\">\n",
       "      <th></th>\n",
       "      <th>City_Category</th>\n",
       "      <th>count</th>\n",
       "    </tr>\n",
       "  </thead>\n",
       "  <tbody>\n",
       "    <tr>\n",
       "      <th>0</th>\n",
       "      <td>A</td>\n",
       "      <td>1045</td>\n",
       "    </tr>\n",
       "    <tr>\n",
       "      <th>1</th>\n",
       "      <td>B</td>\n",
       "      <td>1707</td>\n",
       "    </tr>\n",
       "    <tr>\n",
       "      <th>2</th>\n",
       "      <td>C</td>\n",
       "      <td>3139</td>\n",
       "    </tr>\n",
       "  </tbody>\n",
       "</table>\n",
       "</div>"
      ],
      "text/plain": [
       "  City_Category  count\n",
       "0             A   1045\n",
       "1             B   1707\n",
       "2             C   3139"
      ]
     },
     "execution_count": 26,
     "metadata": {},
     "output_type": "execute_result"
    }
   ],
   "source": [
    "city_category_count = data.groupby(['User_ID','City_Category'])['City_Category'].nunique().to_frame(name='count').groupby('City_Category').count().reset_index()\n",
    "city_category_count"
   ]
  },
  {
   "cell_type": "code",
   "execution_count": null,
   "id": "e0ea63c3",
   "metadata": {},
   "outputs": [],
   "source": []
  },
  {
   "cell_type": "code",
   "execution_count": 27,
   "id": "9d386050",
   "metadata": {},
   "outputs": [
    {
     "data": {
      "image/png": "[encoded data removed]",
      "text/plain": [
       "<Figure size 504x432 with 1 Axes>"
      ]
     },
     "metadata": {
      "needs_background": "light"
     },
     "output_type": "display_data"
    }
   ],
   "source": [
    "plt.figure(figsize=(7,6))\n",
    "sns.barplot(data=city_category_count,x='City_Category',y='count')\n",
    "plt.title('UINQUE COUNT OF EACH CITY CATEGORY')\n",
    "plt.show()"
   ]
  },
  {
   "cell_type": "code",
   "execution_count": null,
   "id": "eacbdd4e",
   "metadata": {},
   "outputs": [],
   "source": []
  },
  {
   "cell_type": "code",
   "execution_count": 28,
   "id": "4d995a55",
   "metadata": {},
   "outputs": [
    {
     "data": {
      "text/html": [
       "<div>\n",
       "<style scoped>\n",
       "    .dataframe tbody tr th:only-of-type {\n",
       "        vertical-align: middle;\n",
       "    }\n",
       "\n",
       "    .dataframe tbody tr th {\n",
       "        vertical-align: top;\n",
       "    }\n",
       "\n",
       "    .dataframe thead th {\n",
       "        text-align: right;\n",
       "    }\n",
       "</style>\n",
       "<table border=\"1\" class=\"dataframe\">\n",
       "  <thead>\n",
       "    <tr style=\"text-align: right;\">\n",
       "      <th></th>\n",
       "      <th></th>\n",
       "      <th>value</th>\n",
       "    </tr>\n",
       "    <tr>\n",
       "      <th>variable</th>\n",
       "      <th>value</th>\n",
       "      <th></th>\n",
       "    </tr>\n",
       "  </thead>\n",
       "  <tbody>\n",
       "    <tr>\n",
       "      <th rowspan=\"7\" valign=\"top\">Age</th>\n",
       "      <th>0-17</th>\n",
       "      <td>0.027455</td>\n",
       "    </tr>\n",
       "    <tr>\n",
       "      <th>18-25</th>\n",
       "      <td>0.181178</td>\n",
       "    </tr>\n",
       "    <tr>\n",
       "      <th>26-35</th>\n",
       "      <td>0.399200</td>\n",
       "    </tr>\n",
       "    <tr>\n",
       "      <th>36-45</th>\n",
       "      <td>0.199999</td>\n",
       "    </tr>\n",
       "    <tr>\n",
       "      <th>46-50</th>\n",
       "      <td>0.083082</td>\n",
       "    </tr>\n",
       "    <tr>\n",
       "      <th>51-55</th>\n",
       "      <td>0.069993</td>\n",
       "    </tr>\n",
       "    <tr>\n",
       "      <th>55+</th>\n",
       "      <td>0.039093</td>\n",
       "    </tr>\n",
       "    <tr>\n",
       "      <th rowspan=\"3\" valign=\"top\">City_Category</th>\n",
       "      <th>A</th>\n",
       "      <td>0.268549</td>\n",
       "    </tr>\n",
       "    <tr>\n",
       "      <th>B</th>\n",
       "      <td>0.420263</td>\n",
       "    </tr>\n",
       "    <tr>\n",
       "      <th>C</th>\n",
       "      <td>0.311189</td>\n",
       "    </tr>\n",
       "    <tr>\n",
       "      <th rowspan=\"2\" valign=\"top\">Gender</th>\n",
       "      <th>F</th>\n",
       "      <td>0.246895</td>\n",
       "    </tr>\n",
       "    <tr>\n",
       "      <th>M</th>\n",
       "      <td>0.753105</td>\n",
       "    </tr>\n",
       "    <tr>\n",
       "      <th rowspan=\"2\" valign=\"top\">Marital_Status</th>\n",
       "      <th>0</th>\n",
       "      <td>0.590347</td>\n",
       "    </tr>\n",
       "    <tr>\n",
       "      <th>1</th>\n",
       "      <td>0.409653</td>\n",
       "    </tr>\n",
       "    <tr>\n",
       "      <th rowspan=\"5\" valign=\"top\">Stay_In_Current_City_Years</th>\n",
       "      <th>0</th>\n",
       "      <td>0.135252</td>\n",
       "    </tr>\n",
       "    <tr>\n",
       "      <th>1</th>\n",
       "      <td>0.352358</td>\n",
       "    </tr>\n",
       "    <tr>\n",
       "      <th>2</th>\n",
       "      <td>0.185137</td>\n",
       "    </tr>\n",
       "    <tr>\n",
       "      <th>3</th>\n",
       "      <td>0.173224</td>\n",
       "    </tr>\n",
       "    <tr>\n",
       "      <th>4+</th>\n",
       "      <td>0.154028</td>\n",
       "    </tr>\n",
       "  </tbody>\n",
       "</table>\n",
       "</div>"
      ],
      "text/plain": [
       "                                     value\n",
       "variable                   value          \n",
       "Age                        0-17   0.027455\n",
       "                           18-25  0.181178\n",
       "                           26-35  0.399200\n",
       "                           36-45  0.199999\n",
       "                           46-50  0.083082\n",
       "                           51-55  0.069993\n",
       "                           55+    0.039093\n",
       "City_Category              A      0.268549\n",
       "                           B      0.420263\n",
       "                           C      0.311189\n",
       "Gender                     F      0.246895\n",
       "                           M      0.753105\n",
       "Marital_Status             0      0.590347\n",
       "                           1      0.409653\n",
       "Stay_In_Current_City_Years 0      0.135252\n",
       "                           1      0.352358\n",
       "                           2      0.185137\n",
       "                           3      0.173224\n",
       "                           4+     0.154028"
      ]
     },
     "execution_count": 28,
     "metadata": {},
     "output_type": "execute_result"
    }
   ],
   "source": [
    "columns = ['Gender', 'Age', 'City_Category', 'Stay_In_Current_City_Years', 'Marital_Status']\n",
    "data[columns].melt().groupby(['variable', 'value'])[['value']].count()/len(data)"
   ]
  },
  {
   "cell_type": "code",
   "execution_count": null,
   "id": "1d52ff5a",
   "metadata": {},
   "outputs": [],
   "source": []
  },
  {
   "cell_type": "code",
   "execution_count": null,
   "id": "6767547a",
   "metadata": {},
   "outputs": [],
   "source": []
  },
  {
   "cell_type": "code",
   "execution_count": 34,
   "id": "539913b7",
   "metadata": {},
   "outputs": [
    {
     "data": {
      "text/plain": [
       "9437.526040472265"
      ]
     },
     "execution_count": 34,
     "metadata": {},
     "output_type": "execute_result"
    }
   ],
   "source": [
    "# AVERAGE PURCHASE OF MALE PER TRANSACTION\n",
    "np.mean(male_data['Purchase'])"
   ]
  },
  {
   "cell_type": "code",
   "execution_count": 35,
   "id": "18d531a9",
   "metadata": {},
   "outputs": [
    {
     "data": {
      "text/plain": [
       "8734.565765155476"
      ]
     },
     "execution_count": 35,
     "metadata": {},
     "output_type": "execute_result"
    }
   ],
   "source": [
    "# AVERAGE PURCHASE OF FEMALE PER TRANSACTION\n",
    "np.mean(female_data['Purchase'])"
   ]
  },
  {
   "cell_type": "code",
   "execution_count": null,
   "id": "e5e24171",
   "metadata": {},
   "outputs": [],
   "source": []
  },
  {
   "cell_type": "code",
   "execution_count": 30,
   "id": "2c2a2cc3",
   "metadata": {},
   "outputs": [
    {
     "data": {
      "image/png": "[encoded data removed]",
      "text/plain": [
       "<Figure size 576x432 with 1 Axes>"
      ]
     },
     "metadata": {
      "needs_background": "light"
     },
     "output_type": "display_data"
    }
   ],
   "source": [
    "plt.figure(figsize=(8,6))\n",
    "sns.boxplot(data=data,x='Purchase',y='Gender')\n",
    "plt.title('DISTRIBUTION OF PURCHASES WITH RESPECT TO GENDER')\n",
    "plt.show()"
   ]
  },
  {
   "cell_type": "code",
   "execution_count": 31,
   "id": "28fd7b6a",
   "metadata": {},
   "outputs": [
    {
     "data": {
      "image/png": "[encoded data removed]",
      "text/plain": [
       "<Figure size 720x576 with 1 Axes>"
      ]
     },
     "metadata": {
      "needs_background": "light"
     },
     "output_type": "display_data"
    }
   ],
   "source": [
    "plt.figure(figsize=(10,8))\n",
    "sns.histplot(data=data['Purchase'],kde=True)\n",
    "plt.show()"
   ]
  },
  {
   "cell_type": "code",
   "execution_count": null,
   "id": "c3184bc0",
   "metadata": {},
   "outputs": [],
   "source": []
  },
  {
   "cell_type": "code",
   "execution_count": null,
   "id": "738ab4d4",
   "metadata": {},
   "outputs": [],
   "source": []
  },
  {
   "cell_type": "markdown",
   "id": "95d3633a",
   "metadata": {},
   "source": [
    "### OBSERVATIONS :\n",
    "\n",
    "- PEOPLE MOSTLY LIVE IN C CATEGORY CITY.\n",
    "- COUNT OF MALE IS HIGHER THAN THE FEMALE IN THE DATA i.e. 4225 AND 1666 RESPECTIVILY.\n",
    "- AGE GROUP OF 26-35 BUYS MORE THAN ANY OTHER GROUPS, BE IT OVERALL DATA, ONLY MALE DATA AND FEMALE DATA.\n",
    "- THE LEAST AGE GROUP WHICH BUYS ARE 0-17 AND 55+.\n",
    "- AVERAGE PURCHASE OF MEN ARE MORE THAN FEMALE."
   ]
  },
  {
   "cell_type": "code",
   "execution_count": null,
   "id": "011aabc7",
   "metadata": {},
   "outputs": [],
   "source": []
  },
  {
   "cell_type": "markdown",
   "id": "61df5c1f",
   "metadata": {},
   "source": [
    "## BIVARIATE ANALYSIS"
   ]
  },
  {
   "cell_type": "code",
   "execution_count": 17,
   "id": "8e8d4f77",
   "metadata": {},
   "outputs": [
    {
     "data": {
      "text/html": [
       "<div>\n",
       "<style scoped>\n",
       "    .dataframe tbody tr th:only-of-type {\n",
       "        vertical-align: middle;\n",
       "    }\n",
       "\n",
       "    .dataframe tbody tr th {\n",
       "        vertical-align: top;\n",
       "    }\n",
       "\n",
       "    .dataframe thead th {\n",
       "        text-align: right;\n",
       "    }\n",
       "</style>\n",
       "<table border=\"1\" class=\"dataframe\">\n",
       "  <thead>\n",
       "    <tr style=\"text-align: right;\">\n",
       "      <th></th>\n",
       "      <th>User_ID</th>\n",
       "      <th>Gender</th>\n",
       "      <th>Purchase</th>\n",
       "    </tr>\n",
       "  </thead>\n",
       "  <tbody>\n",
       "    <tr>\n",
       "      <th>0</th>\n",
       "      <td>1000001</td>\n",
       "      <td>F</td>\n",
       "      <td>334093</td>\n",
       "    </tr>\n",
       "    <tr>\n",
       "      <th>1</th>\n",
       "      <td>1000002</td>\n",
       "      <td>M</td>\n",
       "      <td>810472</td>\n",
       "    </tr>\n",
       "    <tr>\n",
       "      <th>2</th>\n",
       "      <td>1000003</td>\n",
       "      <td>M</td>\n",
       "      <td>341635</td>\n",
       "    </tr>\n",
       "    <tr>\n",
       "      <th>3</th>\n",
       "      <td>1000004</td>\n",
       "      <td>M</td>\n",
       "      <td>206468</td>\n",
       "    </tr>\n",
       "    <tr>\n",
       "      <th>4</th>\n",
       "      <td>1000005</td>\n",
       "      <td>M</td>\n",
       "      <td>821001</td>\n",
       "    </tr>\n",
       "    <tr>\n",
       "      <th>...</th>\n",
       "      <td>...</td>\n",
       "      <td>...</td>\n",
       "      <td>...</td>\n",
       "    </tr>\n",
       "    <tr>\n",
       "      <th>5886</th>\n",
       "      <td>1006036</td>\n",
       "      <td>F</td>\n",
       "      <td>4116058</td>\n",
       "    </tr>\n",
       "    <tr>\n",
       "      <th>5887</th>\n",
       "      <td>1006037</td>\n",
       "      <td>F</td>\n",
       "      <td>1119538</td>\n",
       "    </tr>\n",
       "    <tr>\n",
       "      <th>5888</th>\n",
       "      <td>1006038</td>\n",
       "      <td>F</td>\n",
       "      <td>90034</td>\n",
       "    </tr>\n",
       "    <tr>\n",
       "      <th>5889</th>\n",
       "      <td>1006039</td>\n",
       "      <td>F</td>\n",
       "      <td>590319</td>\n",
       "    </tr>\n",
       "    <tr>\n",
       "      <th>5890</th>\n",
       "      <td>1006040</td>\n",
       "      <td>M</td>\n",
       "      <td>1653299</td>\n",
       "    </tr>\n",
       "  </tbody>\n",
       "</table>\n",
       "<p>5891 rows × 3 columns</p>\n",
       "</div>"
      ],
      "text/plain": [
       "      User_ID Gender  Purchase\n",
       "0     1000001      F    334093\n",
       "1     1000002      M    810472\n",
       "2     1000003      M    341635\n",
       "3     1000004      M    206468\n",
       "4     1000005      M    821001\n",
       "...       ...    ...       ...\n",
       "5886  1006036      F   4116058\n",
       "5887  1006037      F   1119538\n",
       "5888  1006038      F     90034\n",
       "5889  1006039      F    590319\n",
       "5890  1006040      M   1653299\n",
       "\n",
       "[5891 rows x 3 columns]"
      ]
     },
     "execution_count": 17,
     "metadata": {},
     "output_type": "execute_result"
    }
   ],
   "source": [
    "all_purchase_data = data.groupby(['User_ID','Gender'])[['Purchase']].sum()\n",
    "all_purchase_data = all_purchase_data.reset_index()\n",
    "all_purchase_data"
   ]
  },
  {
   "cell_type": "code",
   "execution_count": 20,
   "id": "c3cf694d",
   "metadata": {},
   "outputs": [
    {
     "data": {
      "text/html": [
       "<div>\n",
       "<style scoped>\n",
       "    .dataframe tbody tr th:only-of-type {\n",
       "        vertical-align: middle;\n",
       "    }\n",
       "\n",
       "    .dataframe tbody tr th {\n",
       "        vertical-align: top;\n",
       "    }\n",
       "\n",
       "    .dataframe thead th {\n",
       "        text-align: right;\n",
       "    }\n",
       "</style>\n",
       "<table border=\"1\" class=\"dataframe\">\n",
       "  <thead>\n",
       "    <tr style=\"text-align: right;\">\n",
       "      <th></th>\n",
       "      <th>User_ID</th>\n",
       "      <th>Gender</th>\n",
       "      <th>Purchase</th>\n",
       "    </tr>\n",
       "  </thead>\n",
       "  <tbody>\n",
       "    <tr>\n",
       "      <th>1</th>\n",
       "      <td>1000002</td>\n",
       "      <td>M</td>\n",
       "      <td>810472</td>\n",
       "    </tr>\n",
       "    <tr>\n",
       "      <th>2</th>\n",
       "      <td>1000003</td>\n",
       "      <td>M</td>\n",
       "      <td>341635</td>\n",
       "    </tr>\n",
       "    <tr>\n",
       "      <th>3</th>\n",
       "      <td>1000004</td>\n",
       "      <td>M</td>\n",
       "      <td>206468</td>\n",
       "    </tr>\n",
       "    <tr>\n",
       "      <th>4</th>\n",
       "      <td>1000005</td>\n",
       "      <td>M</td>\n",
       "      <td>821001</td>\n",
       "    </tr>\n",
       "    <tr>\n",
       "      <th>6</th>\n",
       "      <td>1000007</td>\n",
       "      <td>M</td>\n",
       "      <td>234668</td>\n",
       "    </tr>\n",
       "  </tbody>\n",
       "</table>\n",
       "</div>"
      ],
      "text/plain": [
       "   User_ID Gender  Purchase\n",
       "1  1000002      M    810472\n",
       "2  1000003      M    341635\n",
       "3  1000004      M    206468\n",
       "4  1000005      M    821001\n",
       "6  1000007      M    234668"
      ]
     },
     "execution_count": 20,
     "metadata": {},
     "output_type": "execute_result"
    }
   ],
   "source": [
    "male_data = all_purchase_data[all_purchase_data['Gender']=='M']\n",
    "male_data.head()"
   ]
  },
  {
   "cell_type": "code",
   "execution_count": null,
   "id": "b5326b8e",
   "metadata": {},
   "outputs": [],
   "source": []
  },
  {
   "cell_type": "code",
   "execution_count": 21,
   "id": "8588cdd4",
   "metadata": {
    "scrolled": true
   },
   "outputs": [
    {
     "data": {
      "text/html": [
       "<div>\n",
       "<style scoped>\n",
       "    .dataframe tbody tr th:only-of-type {\n",
       "        vertical-align: middle;\n",
       "    }\n",
       "\n",
       "    .dataframe tbody tr th {\n",
       "        vertical-align: top;\n",
       "    }\n",
       "\n",
       "    .dataframe thead th {\n",
       "        text-align: right;\n",
       "    }\n",
       "</style>\n",
       "<table border=\"1\" class=\"dataframe\">\n",
       "  <thead>\n",
       "    <tr style=\"text-align: right;\">\n",
       "      <th></th>\n",
       "      <th>User_ID</th>\n",
       "      <th>Gender</th>\n",
       "      <th>Purchase</th>\n",
       "    </tr>\n",
       "  </thead>\n",
       "  <tbody>\n",
       "    <tr>\n",
       "      <th>0</th>\n",
       "      <td>1000001</td>\n",
       "      <td>F</td>\n",
       "      <td>334093</td>\n",
       "    </tr>\n",
       "    <tr>\n",
       "      <th>5</th>\n",
       "      <td>1000006</td>\n",
       "      <td>F</td>\n",
       "      <td>379930</td>\n",
       "    </tr>\n",
       "    <tr>\n",
       "      <th>9</th>\n",
       "      <td>1000010</td>\n",
       "      <td>F</td>\n",
       "      <td>2169510</td>\n",
       "    </tr>\n",
       "    <tr>\n",
       "      <th>10</th>\n",
       "      <td>1000011</td>\n",
       "      <td>F</td>\n",
       "      <td>557023</td>\n",
       "    </tr>\n",
       "    <tr>\n",
       "      <th>15</th>\n",
       "      <td>1000016</td>\n",
       "      <td>F</td>\n",
       "      <td>150490</td>\n",
       "    </tr>\n",
       "  </tbody>\n",
       "</table>\n",
       "</div>"
      ],
      "text/plain": [
       "    User_ID Gender  Purchase\n",
       "0   1000001      F    334093\n",
       "5   1000006      F    379930\n",
       "9   1000010      F   2169510\n",
       "10  1000011      F    557023\n",
       "15  1000016      F    150490"
      ]
     },
     "execution_count": 21,
     "metadata": {},
     "output_type": "execute_result"
    }
   ],
   "source": [
    "female_data = all_purchase_data[all_purchase_data['Gender']=='F']\n",
    "female_data.head()"
   ]
  },
  {
   "cell_type": "code",
   "execution_count": null,
   "id": "dc21edde",
   "metadata": {},
   "outputs": [],
   "source": []
  },
  {
   "cell_type": "code",
   "execution_count": 22,
   "id": "32d7f675",
   "metadata": {},
   "outputs": [
    {
     "data": {
      "text/plain": [
       "<Figure size 792x504 with 0 Axes>"
      ]
     },
     "metadata": {},
     "output_type": "display_data"
    },
    {
     "data": {
      "image/png": "[encoded data removed]",
      "text/plain": [
       "<Figure size 1152x432 with 2 Axes>"
      ]
     },
     "metadata": {
      "needs_background": "light"
     },
     "output_type": "display_data"
    }
   ],
   "source": [
    "plt.figure(figsize=(11,7))\n",
    "fig, axes = plt.subplots(nrows=1, ncols=2, figsize=(16,6))\n",
    "\n",
    "sns.histplot(data=male_data['Purchase'],kde=True,ax=axes[0]).set_title('DISTRIBUTION OF MALE SPENDING')\n",
    "sns.histplot(data=female_data['Purchase'],kde=True,ax=axes[1]).set_title('DISTRIBUTION OF FEMALE SPENDING')\n",
    "\n",
    "plt.show()"
   ]
  },
  {
   "cell_type": "code",
   "execution_count": null,
   "id": "a90c6c8a",
   "metadata": {},
   "outputs": [],
   "source": []
  },
  {
   "cell_type": "code",
   "execution_count": 23,
   "id": "4d095fbc",
   "metadata": {},
   "outputs": [
    {
     "data": {
      "text/plain": [
       "258589.0"
      ]
     },
     "execution_count": 23,
     "metadata": {},
     "output_type": "execute_result"
    }
   ],
   "source": [
    "# 25 percentile of male purchase\n",
    "m_25 = np.percentile(male_data['Purchase'],25)\n",
    "m_25"
   ]
  },
  {
   "cell_type": "code",
   "execution_count": 24,
   "id": "b0331b81",
   "metadata": {},
   "outputs": [
    {
     "data": {
      "text/plain": [
       "1215237.0"
      ]
     },
     "execution_count": 24,
     "metadata": {},
     "output_type": "execute_result"
    }
   ],
   "source": [
    "# 75 percentile of male purchase\n",
    "m_75 = np.percentile(male_data['Purchase'],75)\n",
    "m_75"
   ]
  },
  {
   "cell_type": "code",
   "execution_count": 25,
   "id": "df0188e4",
   "metadata": {},
   "outputs": [
    {
     "data": {
      "text/plain": [
       "258589.0"
      ]
     },
     "execution_count": 25,
     "metadata": {},
     "output_type": "execute_result"
    }
   ],
   "source": [
    "# 50 percentile of male purchase\n",
    "m_50 = np.percentile(male_data['Purchase'],25)\n",
    "m_50"
   ]
  },
  {
   "cell_type": "code",
   "execution_count": 26,
   "id": "1fb231f1",
   "metadata": {},
   "outputs": [
    {
     "data": {
      "text/plain": [
       "956648.0"
      ]
     },
     "execution_count": 26,
     "metadata": {},
     "output_type": "execute_result"
    }
   ],
   "source": [
    "# IQR of male purchase\n",
    "m_iqr = m_75 - m_25\n",
    "m_iqr"
   ]
  },
  {
   "cell_type": "code",
   "execution_count": 27,
   "id": "d17efe4e",
   "metadata": {},
   "outputs": [
    {
     "data": {
      "text/plain": [
       "2650209.0"
      ]
     },
     "execution_count": 27,
     "metadata": {},
     "output_type": "execute_result"
    }
   ],
   "source": [
    "m_upper_limit = m_75 + 1.5*(m_iqr)\n",
    "m_upper_limit"
   ]
  },
  {
   "cell_type": "code",
   "execution_count": null,
   "id": "030e3014",
   "metadata": {},
   "outputs": [],
   "source": []
  },
  {
   "cell_type": "code",
   "execution_count": 28,
   "id": "157ad5e9",
   "metadata": {},
   "outputs": [
    {
     "data": {
      "text/html": [
       "<div>\n",
       "<style scoped>\n",
       "    .dataframe tbody tr th:only-of-type {\n",
       "        vertical-align: middle;\n",
       "    }\n",
       "\n",
       "    .dataframe tbody tr th {\n",
       "        vertical-align: top;\n",
       "    }\n",
       "\n",
       "    .dataframe thead th {\n",
       "        text-align: right;\n",
       "    }\n",
       "</style>\n",
       "<table border=\"1\" class=\"dataframe\">\n",
       "  <thead>\n",
       "    <tr style=\"text-align: right;\">\n",
       "      <th></th>\n",
       "      <th>User_ID</th>\n",
       "      <th>Gender</th>\n",
       "      <th>Purchase</th>\n",
       "    </tr>\n",
       "  </thead>\n",
       "  <tbody>\n",
       "    <tr>\n",
       "      <th>45</th>\n",
       "      <td>1000048</td>\n",
       "      <td>M</td>\n",
       "      <td>2788504</td>\n",
       "    </tr>\n",
       "    <tr>\n",
       "      <th>50</th>\n",
       "      <td>1000053</td>\n",
       "      <td>M</td>\n",
       "      <td>4270371</td>\n",
       "    </tr>\n",
       "    <tr>\n",
       "      <th>55</th>\n",
       "      <td>1000058</td>\n",
       "      <td>M</td>\n",
       "      <td>2896836</td>\n",
       "    </tr>\n",
       "    <tr>\n",
       "      <th>113</th>\n",
       "      <td>1000117</td>\n",
       "      <td>M</td>\n",
       "      <td>2742646</td>\n",
       "    </tr>\n",
       "    <tr>\n",
       "      <th>119</th>\n",
       "      <td>1000123</td>\n",
       "      <td>M</td>\n",
       "      <td>3237092</td>\n",
       "    </tr>\n",
       "    <tr>\n",
       "      <th>...</th>\n",
       "      <td>...</td>\n",
       "      <td>...</td>\n",
       "      <td>...</td>\n",
       "    </tr>\n",
       "    <tr>\n",
       "      <th>5730</th>\n",
       "      <td>1005880</td>\n",
       "      <td>M</td>\n",
       "      <td>3551677</td>\n",
       "    </tr>\n",
       "    <tr>\n",
       "      <th>5766</th>\n",
       "      <td>1005916</td>\n",
       "      <td>M</td>\n",
       "      <td>2932572</td>\n",
       "    </tr>\n",
       "    <tr>\n",
       "      <th>5804</th>\n",
       "      <td>1005954</td>\n",
       "      <td>M</td>\n",
       "      <td>4551927</td>\n",
       "    </tr>\n",
       "    <tr>\n",
       "      <th>5814</th>\n",
       "      <td>1005964</td>\n",
       "      <td>M</td>\n",
       "      <td>3117743</td>\n",
       "    </tr>\n",
       "    <tr>\n",
       "      <th>5866</th>\n",
       "      <td>1006016</td>\n",
       "      <td>M</td>\n",
       "      <td>3770970</td>\n",
       "    </tr>\n",
       "  </tbody>\n",
       "</table>\n",
       "<p>271 rows × 3 columns</p>\n",
       "</div>"
      ],
      "text/plain": [
       "      User_ID Gender  Purchase\n",
       "45    1000048      M   2788504\n",
       "50    1000053      M   4270371\n",
       "55    1000058      M   2896836\n",
       "113   1000117      M   2742646\n",
       "119   1000123      M   3237092\n",
       "...       ...    ...       ...\n",
       "5730  1005880      M   3551677\n",
       "5766  1005916      M   2932572\n",
       "5804  1005954      M   4551927\n",
       "5814  1005964      M   3117743\n",
       "5866  1006016      M   3770970\n",
       "\n",
       "[271 rows x 3 columns]"
      ]
     },
     "execution_count": 28,
     "metadata": {},
     "output_type": "execute_result"
    }
   ],
   "source": [
    "# THESE ARE THE POTENTIAL OUTLIERS FOR MALE DATA\n",
    "male_data[male_data['Purchase']>m_upper_limit]"
   ]
  },
  {
   "cell_type": "code",
   "execution_count": null,
   "id": "b7605057",
   "metadata": {},
   "outputs": [],
   "source": []
  },
  {
   "cell_type": "code",
   "execution_count": 29,
   "id": "883a2aad",
   "metadata": {},
   "outputs": [
    {
     "data": {
      "text/plain": [
       "202654.75"
      ]
     },
     "execution_count": 29,
     "metadata": {},
     "output_type": "execute_result"
    }
   ],
   "source": [
    "# 25 percentile of female purchase\n",
    "\n",
    "f_25 = np.percentile(female_data['Purchase'],25)\n",
    "f_25"
   ]
  },
  {
   "cell_type": "code",
   "execution_count": 30,
   "id": "4352064e",
   "metadata": {},
   "outputs": [
    {
     "data": {
      "text/plain": [
       "407263.0"
      ]
     },
     "execution_count": 30,
     "metadata": {},
     "output_type": "execute_result"
    }
   ],
   "source": [
    "# 50 percentile of female purchase\n",
    "\n",
    "f_50 = np.percentile(female_data['Purchase'],50)\n",
    "f_50"
   ]
  },
  {
   "cell_type": "code",
   "execution_count": 31,
   "id": "434124cb",
   "metadata": {},
   "outputs": [
    {
     "data": {
      "text/plain": [
       "873772.0"
      ]
     },
     "execution_count": 31,
     "metadata": {},
     "output_type": "execute_result"
    }
   ],
   "source": [
    "# 75 percentile of female purchase\n",
    "\n",
    "f_75 = np.percentile(female_data['Purchase'],75)\n",
    "f_75"
   ]
  },
  {
   "cell_type": "code",
   "execution_count": 32,
   "id": "1fbe42cf",
   "metadata": {},
   "outputs": [
    {
     "data": {
      "text/plain": [
       "671117.25"
      ]
     },
     "execution_count": 32,
     "metadata": {},
     "output_type": "execute_result"
    }
   ],
   "source": [
    "# IQR of female purchase\n",
    "\n",
    "f_iqr = f_75 - f_25\n",
    "f_iqr"
   ]
  },
  {
   "cell_type": "code",
   "execution_count": 33,
   "id": "b7342c7b",
   "metadata": {},
   "outputs": [
    {
     "data": {
      "text/plain": [
       "1880447.875"
      ]
     },
     "execution_count": 33,
     "metadata": {},
     "output_type": "execute_result"
    }
   ],
   "source": [
    "f_upper_limit = f_75 + 1.5 * f_iqr\n",
    "f_upper_limit"
   ]
  },
  {
   "cell_type": "code",
   "execution_count": 34,
   "id": "ec0532f0",
   "metadata": {},
   "outputs": [
    {
     "data": {
      "text/html": [
       "<div>\n",
       "<style scoped>\n",
       "    .dataframe tbody tr th:only-of-type {\n",
       "        vertical-align: middle;\n",
       "    }\n",
       "\n",
       "    .dataframe tbody tr th {\n",
       "        vertical-align: top;\n",
       "    }\n",
       "\n",
       "    .dataframe thead th {\n",
       "        text-align: right;\n",
       "    }\n",
       "</style>\n",
       "<table border=\"1\" class=\"dataframe\">\n",
       "  <thead>\n",
       "    <tr style=\"text-align: right;\">\n",
       "      <th></th>\n",
       "      <th>User_ID</th>\n",
       "      <th>Gender</th>\n",
       "      <th>Purchase</th>\n",
       "    </tr>\n",
       "  </thead>\n",
       "  <tbody>\n",
       "    <tr>\n",
       "      <th>9</th>\n",
       "      <td>1000010</td>\n",
       "      <td>F</td>\n",
       "      <td>2169510</td>\n",
       "    </tr>\n",
       "    <tr>\n",
       "      <th>17</th>\n",
       "      <td>1000018</td>\n",
       "      <td>F</td>\n",
       "      <td>1979047</td>\n",
       "    </tr>\n",
       "    <tr>\n",
       "      <th>59</th>\n",
       "      <td>1000062</td>\n",
       "      <td>F</td>\n",
       "      <td>2513618</td>\n",
       "    </tr>\n",
       "    <tr>\n",
       "      <th>142</th>\n",
       "      <td>1000146</td>\n",
       "      <td>F</td>\n",
       "      <td>2257255</td>\n",
       "    </tr>\n",
       "    <tr>\n",
       "      <th>147</th>\n",
       "      <td>1000151</td>\n",
       "      <td>F</td>\n",
       "      <td>2560797</td>\n",
       "    </tr>\n",
       "    <tr>\n",
       "      <th>...</th>\n",
       "      <td>...</td>\n",
       "      <td>...</td>\n",
       "      <td>...</td>\n",
       "    </tr>\n",
       "    <tr>\n",
       "      <th>5728</th>\n",
       "      <td>1005878</td>\n",
       "      <td>F</td>\n",
       "      <td>2981466</td>\n",
       "    </tr>\n",
       "    <tr>\n",
       "      <th>5805</th>\n",
       "      <td>1005955</td>\n",
       "      <td>F</td>\n",
       "      <td>1949208</td>\n",
       "    </tr>\n",
       "    <tr>\n",
       "      <th>5822</th>\n",
       "      <td>1005972</td>\n",
       "      <td>F</td>\n",
       "      <td>2086643</td>\n",
       "    </tr>\n",
       "    <tr>\n",
       "      <th>5846</th>\n",
       "      <td>1005996</td>\n",
       "      <td>F</td>\n",
       "      <td>3021711</td>\n",
       "    </tr>\n",
       "    <tr>\n",
       "      <th>5886</th>\n",
       "      <td>1006036</td>\n",
       "      <td>F</td>\n",
       "      <td>4116058</td>\n",
       "    </tr>\n",
       "  </tbody>\n",
       "</table>\n",
       "<p>139 rows × 3 columns</p>\n",
       "</div>"
      ],
      "text/plain": [
       "      User_ID Gender  Purchase\n",
       "9     1000010      F   2169510\n",
       "17    1000018      F   1979047\n",
       "59    1000062      F   2513618\n",
       "142   1000146      F   2257255\n",
       "147   1000151      F   2560797\n",
       "...       ...    ...       ...\n",
       "5728  1005878      F   2981466\n",
       "5805  1005955      F   1949208\n",
       "5822  1005972      F   2086643\n",
       "5846  1005996      F   3021711\n",
       "5886  1006036      F   4116058\n",
       "\n",
       "[139 rows x 3 columns]"
      ]
     },
     "execution_count": 34,
     "metadata": {},
     "output_type": "execute_result"
    }
   ],
   "source": [
    "# THESE ARE THE POTENTIAL OUTLIERS FOR FEMALE DATA\n",
    "\n",
    "female_data[female_data['Purchase']>f_upper_limit]"
   ]
  },
  {
   "cell_type": "code",
   "execution_count": null,
   "id": "77a6a1b1",
   "metadata": {},
   "outputs": [],
   "source": []
  },
  {
   "cell_type": "code",
   "execution_count": 51,
   "id": "36f6e3b7",
   "metadata": {},
   "outputs": [
    {
     "data": {
      "image/png": "[encoded data removed]",
      "text/plain": [
       "<Figure size 1296x864 with 6 Axes>"
      ]
     },
     "metadata": {
      "needs_background": "light"
     },
     "output_type": "display_data"
    },
    {
     "data": {
      "image/png": "[encoded data removed]",
      "text/plain": [
       "<Figure size 576x360 with 1 Axes>"
      ]
     },
     "metadata": {
      "needs_background": "light"
     },
     "output_type": "display_data"
    }
   ],
   "source": [
    "fig, axes = plt.subplots(nrows=3, ncols=2, figsize=(18,12))\n",
    "fig.subplots_adjust(top=1.4)\n",
    "\n",
    "sns.boxplot(data=data,x='Gender',y='Purchase',ax=axes[0,0]).set_title('DISTRIBUTION OF MALE SPENDING BASED ON GENDER')\n",
    "sns.boxplot(data=data,x='Age',y='Purchase',ax=axes[0,1]).set_title('DISTRIBUTION OF MALE SPENDING BASED ON AGE')\n",
    "sns.boxplot(data=data,x='Occupation',y='Purchase',ax=axes[1,0]).set_title('DISTRIBUTION OF MALE SPENDING BASED ON OCCUPATION')\n",
    "sns.boxplot(data=data,x='City_Category',y='Purchase',ax=axes[1,1]).set_title('DISTRIBUTION OF MALE SPENDING BASED ON CITY CATEGORY')\n",
    "sns.boxplot(data=data,x='Stay_In_Current_City_Years',y='Purchase',ax=axes[2,0]).set_title('DISTRIBUTION OF MALE SPENDING BASED ON STAYS')\n",
    "sns.boxplot(data=data,x='Marital_Status',y='Purchase',ax=axes[2,1]).set_title('DISTRIBUTION OF MALE SPENDING BASED ON MARITAL STATUS')\n",
    "\n",
    "plt.figure(figsize=(8, 5))\n",
    "sns.boxplot(data=data, y='Purchase', x='Product_Category')\n",
    "plt.show()"
   ]
  },
  {
   "cell_type": "code",
   "execution_count": null,
   "id": "09e4794e",
   "metadata": {},
   "outputs": [],
   "source": []
  },
  {
   "cell_type": "markdown",
   "id": "ff4ae416",
   "metadata": {},
   "source": [
    "### OBSERVATIONS :\n",
    "\n",
    "- 1. Among differnt age categories, we see similar purchase behaviour. For all age groups, most of the purchases are of the values between 5k to 12k with all have some outliers.\n",
    "- 2. We see variations among product categories. Product category 10 products are the costliest ones. Also, there are few outliers for some of the product categories.\n",
    "- 3. Among different occupation as well, we see similar purchasing behaviour in terms of the purchase values.\n",
    "\n",
    "- 4. The spending pattern for males and females are similar as we can see from the above histplot. Males purchasing value are little range than females.\n",
    "- 5. Similarly for City category, stay in current city years, marital status - we see the users spends mostly in the range of 5k to 12k.\n"
   ]
  },
  {
   "cell_type": "code",
   "execution_count": null,
   "id": "670ba5e6",
   "metadata": {},
   "outputs": [],
   "source": []
  },
  {
   "cell_type": "markdown",
   "id": "8361b1f1",
   "metadata": {},
   "source": [
    "## MULTIVARIATE ANALYSIS"
   ]
  },
  {
   "cell_type": "code",
   "execution_count": 52,
   "id": "d8e26d46",
   "metadata": {},
   "outputs": [
    {
     "data": {
      "text/html": [
       "<div>\n",
       "<style scoped>\n",
       "    .dataframe tbody tr th:only-of-type {\n",
       "        vertical-align: middle;\n",
       "    }\n",
       "\n",
       "    .dataframe tbody tr th {\n",
       "        vertical-align: top;\n",
       "    }\n",
       "\n",
       "    .dataframe thead th {\n",
       "        text-align: right;\n",
       "    }\n",
       "</style>\n",
       "<table border=\"1\" class=\"dataframe\">\n",
       "  <thead>\n",
       "    <tr style=\"text-align: right;\">\n",
       "      <th></th>\n",
       "      <th>User_ID</th>\n",
       "      <th>Product_ID</th>\n",
       "      <th>Gender</th>\n",
       "      <th>Age</th>\n",
       "      <th>Occupation</th>\n",
       "      <th>City_Category</th>\n",
       "      <th>Stay_In_Current_City_Years</th>\n",
       "      <th>Marital_Status</th>\n",
       "      <th>Product_Category</th>\n",
       "      <th>Purchase</th>\n",
       "    </tr>\n",
       "  </thead>\n",
       "  <tbody>\n",
       "    <tr>\n",
       "      <th>0</th>\n",
       "      <td>1000001</td>\n",
       "      <td>P00069042</td>\n",
       "      <td>F</td>\n",
       "      <td>0-17</td>\n",
       "      <td>10</td>\n",
       "      <td>A</td>\n",
       "      <td>2</td>\n",
       "      <td>0</td>\n",
       "      <td>3</td>\n",
       "      <td>8370</td>\n",
       "    </tr>\n",
       "    <tr>\n",
       "      <th>1</th>\n",
       "      <td>1000001</td>\n",
       "      <td>P00248942</td>\n",
       "      <td>F</td>\n",
       "      <td>0-17</td>\n",
       "      <td>10</td>\n",
       "      <td>A</td>\n",
       "      <td>2</td>\n",
       "      <td>0</td>\n",
       "      <td>1</td>\n",
       "      <td>15200</td>\n",
       "    </tr>\n",
       "  </tbody>\n",
       "</table>\n",
       "</div>"
      ],
      "text/plain": [
       "   User_ID Product_ID Gender   Age  Occupation City_Category  \\\n",
       "0  1000001  P00069042      F  0-17          10             A   \n",
       "1  1000001  P00248942      F  0-17          10             A   \n",
       "\n",
       "  Stay_In_Current_City_Years  Marital_Status  Product_Category  Purchase  \n",
       "0                          2               0                 3      8370  \n",
       "1                          2               0                 1     15200  "
      ]
     },
     "execution_count": 52,
     "metadata": {},
     "output_type": "execute_result"
    }
   ],
   "source": [
    "data.head(2)"
   ]
  },
  {
   "cell_type": "code",
   "execution_count": 53,
   "id": "2b7ee76d",
   "metadata": {},
   "outputs": [
    {
     "data": {
      "image/png": "[encoded data removed]",
      "text/plain": [
       "<Figure size 1440x576 with 4 Axes>"
      ]
     },
     "metadata": {
      "needs_background": "light"
     },
     "output_type": "display_data"
    }
   ],
   "source": [
    "fig, axs = plt.subplots(nrows=2, ncols=2, figsize=(20, 8))\n",
    "fig.subplots_adjust(top=1.6)\n",
    "sns.boxplot(data=data, y='Purchase', x='Gender', hue='Age', ax=axs[0,0]).set_title('DISTRIBUTION OF PURCHASES WITH RESPECT TO GENDER AND AGE GROUP')\n",
    "sns.boxplot(data=data, y='Purchase', x='Gender', hue='City_Category', ax=axs[0,1]).set_title('DISTRIBUTION OF PURCHASES WITH RESPECT TO GENDER AND CITY CATEGORY')\n",
    "sns.boxplot(data=data, y='Purchase', x='Gender', hue='Marital_Status', ax=axs[1,0]).set_title('DISTRIBUTION OF PURCHASES WITH RESPECT TO GENDER AND MARITAL STATUS')\n",
    "sns.boxplot(data=data, y='Purchase', x='Gender', hue='Stay_In_Current_City_Years', ax=axs[1,1]).set_title('DISTRIBUTION OF PURCHASES WITH RESPECT TO GENDER AND STAYS')\n",
    "\n",
    "plt.show()"
   ]
  },
  {
   "cell_type": "code",
   "execution_count": null,
   "id": "caae1fd4",
   "metadata": {},
   "outputs": [],
   "source": []
  },
  {
   "cell_type": "markdown",
   "id": "098fabbe",
   "metadata": {},
   "source": [
    "### OBSERVATIONS :\n",
    "\n",
    "- 3. Males and females spending behaviour remains similar when we take marital status into account.\n",
    "- 1. The purchasing pattern is very much similar for males and females even with differnt age groups.\n",
    "- 4. Purchase values are very similar for males and females on the basis of Stay_in_current_city_years.\n",
    "- 2. The purchasing pattern of males and females on the basis of different cities categories is also similar in nature.\n",
    "- 5. Males from city category B tends to purchase costlier products in comparison to females.\n",
    "- 6. Outliers in females with respect to every category are vast.\n"
   ]
  },
  {
   "cell_type": "code",
   "execution_count": null,
   "id": "8d06ec70",
   "metadata": {},
   "outputs": [],
   "source": []
  },
  {
   "cell_type": "code",
   "execution_count": null,
   "id": "4ea07c3c",
   "metadata": {},
   "outputs": [],
   "source": []
  },
  {
   "cell_type": "code",
   "execution_count": null,
   "id": "1fbb44e5",
   "metadata": {},
   "outputs": [],
   "source": []
  },
  {
   "cell_type": "markdown",
   "id": "f7dbbafc",
   "metadata": {},
   "source": [
    "### 3.1"
   ]
  },
  {
   "cell_type": "code",
   "execution_count": 35,
   "id": "f6062a6d",
   "metadata": {},
   "outputs": [
    {
     "data": {
      "text/plain": [
       "925344.4023668639"
      ]
     },
     "execution_count": 35,
     "metadata": {},
     "output_type": "execute_result"
    }
   ],
   "source": [
    "# AVERAGE PURCHASE OF MALE PER TRANSACTION\n",
    "np.mean(male_data['Purchase'])"
   ]
  },
  {
   "cell_type": "code",
   "execution_count": 36,
   "id": "b9c898c8",
   "metadata": {},
   "outputs": [
    {
     "data": {
      "text/plain": [
       "712024.3949579832"
      ]
     },
     "execution_count": 36,
     "metadata": {},
     "output_type": "execute_result"
    }
   ],
   "source": [
    "# AVERAGE PURCHASE OF FEMALE PER TRANSACTION\n",
    "np.mean(female_data['Purchase'])"
   ]
  },
  {
   "cell_type": "code",
   "execution_count": null,
   "id": "5d02238a",
   "metadata": {},
   "outputs": [],
   "source": []
  },
  {
   "cell_type": "code",
   "execution_count": null,
   "id": "a05beca7",
   "metadata": {},
   "outputs": [],
   "source": []
  },
  {
   "cell_type": "markdown",
   "id": "9bb3d28e",
   "metadata": {},
   "source": [
    "#### SAMPLE MEAN OF PURCHASE(POPULATION)"
   ]
  },
  {
   "cell_type": "code",
   "execution_count": null,
   "id": "db3ebf33",
   "metadata": {},
   "outputs": [],
   "source": []
  },
  {
   "cell_type": "code",
   "execution_count": 37,
   "id": "8a01257b",
   "metadata": {},
   "outputs": [],
   "source": [
    "pop_sample_mean = []\n",
    "for i in range(2000):\n",
    "    a = np.random.choice(all_purchase_data['Purchase'],200)\n",
    "    p_avg = np.mean(a)\n",
    "    pop_sample_mean.append(p_avg)"
   ]
  },
  {
   "cell_type": "code",
   "execution_count": 38,
   "id": "84fe6fb8",
   "metadata": {},
   "outputs": [
    {
     "data": {
      "text/plain": [
       "[835722.97, 811288.265, 771538.37, 970841.16, 811817.46]"
      ]
     },
     "execution_count": 38,
     "metadata": {},
     "output_type": "execute_result"
    }
   ],
   "source": [
    "pop_sample_mean[:5]"
   ]
  },
  {
   "cell_type": "code",
   "execution_count": 39,
   "id": "2715b81d",
   "metadata": {},
   "outputs": [
    {
     "data": {
      "text/plain": [
       "866487.9325574999"
      ]
     },
     "execution_count": 39,
     "metadata": {},
     "output_type": "execute_result"
    }
   ],
   "source": [
    "np.mean(pop_sample_mean)"
   ]
  },
  {
   "cell_type": "code",
   "execution_count": 40,
   "id": "165c5701",
   "metadata": {},
   "outputs": [
    {
     "data": {
      "text/plain": [
       "65270.03497118809"
      ]
     },
     "execution_count": 40,
     "metadata": {},
     "output_type": "execute_result"
    }
   ],
   "source": [
    "np.std(pop_sample_mean)"
   ]
  },
  {
   "cell_type": "code",
   "execution_count": 41,
   "id": "21ada3a0",
   "metadata": {},
   "outputs": [
    {
     "data": {
      "text/plain": [
       "9263.968712959126"
      ]
     },
     "execution_count": 41,
     "metadata": {},
     "output_type": "execute_result"
    }
   ],
   "source": [
    "np.mean(data['Purchase'])"
   ]
  },
  {
   "cell_type": "code",
   "execution_count": 42,
   "id": "af4fb03e",
   "metadata": {},
   "outputs": [
    {
     "data": {
      "text/plain": [
       "4615.28843364102"
      ]
     },
     "execution_count": 42,
     "metadata": {},
     "output_type": "execute_result"
    }
   ],
   "source": [
    "np.std(pop_sample_mean)/np.sqrt(200)"
   ]
  },
  {
   "cell_type": "code",
   "execution_count": null,
   "id": "0b633802",
   "metadata": {},
   "outputs": [],
   "source": [
    "# 95% CI"
   ]
  },
  {
   "cell_type": "code",
   "execution_count": null,
   "id": "c6eee364",
   "metadata": {},
   "outputs": [],
   "source": [
    "# MU +- 1.95 * SE "
   ]
  },
  {
   "cell_type": "code",
   "execution_count": 43,
   "id": "4f965d98",
   "metadata": {},
   "outputs": [
    {
     "data": {
      "text/plain": [
       "875533.8978874362"
      ]
     },
     "execution_count": 43,
     "metadata": {},
     "output_type": "execute_result"
    }
   ],
   "source": [
    "p_x1 = np.mean(pop_sample_mean) + 1.96 * np.std(pop_sample_mean)/np.sqrt(200)\n",
    "p_x1"
   ]
  },
  {
   "cell_type": "code",
   "execution_count": 44,
   "id": "0e3157be",
   "metadata": {},
   "outputs": [
    {
     "data": {
      "text/plain": [
       "857441.9672275635"
      ]
     },
     "execution_count": 44,
     "metadata": {},
     "output_type": "execute_result"
    }
   ],
   "source": [
    "p_x2 = np.mean(pop_sample_mean) - 1.96 * np.std(pop_sample_mean)/np.sqrt(200)\n",
    "p_x2"
   ]
  },
  {
   "cell_type": "code",
   "execution_count": 45,
   "id": "2b8f8233",
   "metadata": {},
   "outputs": [
    {
     "data": {
      "text/plain": [
       "<AxesSubplot:ylabel='Count'>"
      ]
     },
     "execution_count": 45,
     "metadata": {},
     "output_type": "execute_result"
    },
    {
     "data": {
      "image/png": "[encoded data removed]",
      "text/plain": [
       "<Figure size 432x288 with 1 Axes>"
      ]
     },
     "metadata": {
      "needs_background": "light"
     },
     "output_type": "display_data"
    }
   ],
   "source": [
    "sns.histplot(pop_sample_mean,kde=True)"
   ]
  },
  {
   "cell_type": "markdown",
   "id": "a5ee025f",
   "metadata": {},
   "source": [
    "#### WITH 95% CONFIDENCE INTERVAL POPULATION SAMPLE MEAN WILL LIE IN ( 857441.967 - 875533.897)"
   ]
  },
  {
   "cell_type": "code",
   "execution_count": null,
   "id": "4855497c",
   "metadata": {},
   "outputs": [],
   "source": []
  },
  {
   "cell_type": "code",
   "execution_count": null,
   "id": "725ef73a",
   "metadata": {},
   "outputs": [],
   "source": []
  },
  {
   "cell_type": "code",
   "execution_count": 94,
   "id": "cf1619ab",
   "metadata": {},
   "outputs": [],
   "source": [
    "male_sample_means = []\n",
    "for i in range(2000):\n",
    "    a = np.random.choice(male_data['Purchase'],3000)\n",
    "    avg = np.mean(a)\n",
    "    male_sample_means.append(avg)"
   ]
  },
  {
   "cell_type": "code",
   "execution_count": 95,
   "id": "b8d813ab",
   "metadata": {},
   "outputs": [
    {
     "data": {
      "text/plain": [
       "925846.3373963333"
      ]
     },
     "execution_count": 95,
     "metadata": {},
     "output_type": "execute_result"
    }
   ],
   "source": [
    "male_sample_mean =  np.mean(male_sample_means)\n",
    "male_sample_mean"
   ]
  },
  {
   "cell_type": "code",
   "execution_count": 96,
   "id": "ca5cecc6",
   "metadata": {},
   "outputs": [
    {
     "data": {
      "text/plain": [
       "17700.69687110966"
      ]
     },
     "execution_count": 96,
     "metadata": {},
     "output_type": "execute_result"
    }
   ],
   "source": [
    "male_sample_std = np.std(male_sample_means)\n",
    "male_sample_std"
   ]
  },
  {
   "cell_type": "code",
   "execution_count": 97,
   "id": "a284c478",
   "metadata": {},
   "outputs": [
    {
     "data": {
      "text/plain": [
       "891152.9715289584"
      ]
     },
     "execution_count": 97,
     "metadata": {},
     "output_type": "execute_result"
    }
   ],
   "source": [
    "m_x1 = np.mean(male_sample_mean) - 1.96 * male_sample_std\n",
    "m_x1"
   ]
  },
  {
   "cell_type": "code",
   "execution_count": 98,
   "id": "7af7cbcf",
   "metadata": {},
   "outputs": [
    {
     "data": {
      "text/plain": [
       "960539.7032637083"
      ]
     },
     "execution_count": 98,
     "metadata": {},
     "output_type": "execute_result"
    }
   ],
   "source": [
    "m_x2 = np.mean(male_sample_mean) + 1.96 * male_sample_std\n",
    "m_x2"
   ]
  },
  {
   "cell_type": "code",
   "execution_count": 71,
   "id": "2e42cbf3",
   "metadata": {},
   "outputs": [
    {
     "data": {
      "text/plain": [
       "<AxesSubplot:ylabel='Count'>"
      ]
     },
     "execution_count": 71,
     "metadata": {},
     "output_type": "execute_result"
    },
    {
     "data": {
      "image/png": "[encoded data removed]",
      "text/plain": [
       "<Figure size 432x288 with 1 Axes>"
      ]
     },
     "metadata": {
      "needs_background": "light"
     },
     "output_type": "display_data"
    }
   ],
   "source": [
    "sns.histplot(male_sample_mean,kde=True)"
   ]
  },
  {
   "cell_type": "markdown",
   "id": "147199df",
   "metadata": {},
   "source": [
    "#### WITH 95% CONFIDENCE INTERVAL MALE POPULATION SAMPLE MEAN WILL LIE IN (890030.810 - 959993.476 )"
   ]
  },
  {
   "cell_type": "code",
   "execution_count": null,
   "id": "8a8b2245",
   "metadata": {},
   "outputs": [],
   "source": []
  },
  {
   "cell_type": "code",
   "execution_count": null,
   "id": "da04826b",
   "metadata": {},
   "outputs": [],
   "source": []
  },
  {
   "cell_type": "code",
   "execution_count": 99,
   "id": "6f6d413c",
   "metadata": {},
   "outputs": [],
   "source": [
    "female_sample_means = []\n",
    "for i in range(2000):\n",
    "    a = np.random.choice(female_data['Purchase'],1500)\n",
    "    avg = np.mean(a)\n",
    "    female_sample_means.append(avg)"
   ]
  },
  {
   "cell_type": "code",
   "execution_count": 100,
   "id": "55ad7ad8",
   "metadata": {},
   "outputs": [
    {
     "data": {
      "text/plain": [
       "712634.7316646667"
      ]
     },
     "execution_count": 100,
     "metadata": {},
     "output_type": "execute_result"
    }
   ],
   "source": [
    "female_sample_mean = np.mean(female_sample_means)\n",
    "female_sample_mean"
   ]
  },
  {
   "cell_type": "code",
   "execution_count": 101,
   "id": "2bb930f7",
   "metadata": {},
   "outputs": [
    {
     "data": {
      "text/plain": [
       "21435.511369355365"
      ]
     },
     "execution_count": 101,
     "metadata": {},
     "output_type": "execute_result"
    }
   ],
   "source": [
    "female_sample_std = np.std(female_sample_means)\n",
    "female_sample_std"
   ]
  },
  {
   "cell_type": "code",
   "execution_count": 102,
   "id": "d90af6d7",
   "metadata": {},
   "outputs": [
    {
     "data": {
      "text/plain": [
       "553.4625236730204"
      ]
     },
     "execution_count": 102,
     "metadata": {},
     "output_type": "execute_result"
    }
   ],
   "source": [
    "# STANDARD ERROR\n",
    "np.std(female_sample_means)/np.sqrt(1500)"
   ]
  },
  {
   "cell_type": "code",
   "execution_count": 103,
   "id": "e8e72814",
   "metadata": {},
   "outputs": [
    {
     "data": {
      "text/plain": [
       "670621.1293807302"
      ]
     },
     "execution_count": 103,
     "metadata": {},
     "output_type": "execute_result"
    }
   ],
   "source": [
    "f_x1 = female_sample_mean - 1.96 * female_sample_std\n",
    "f_x1"
   ]
  },
  {
   "cell_type": "code",
   "execution_count": 104,
   "id": "03a44641",
   "metadata": {},
   "outputs": [
    {
     "data": {
      "text/plain": [
       "754648.3339486031"
      ]
     },
     "execution_count": 104,
     "metadata": {},
     "output_type": "execute_result"
    }
   ],
   "source": [
    "f_x2 = female_sample_mean + 1.96 * female_sample_std\n",
    "f_x2"
   ]
  },
  {
   "cell_type": "code",
   "execution_count": 78,
   "id": "190d3c26",
   "metadata": {},
   "outputs": [
    {
     "data": {
      "text/plain": [
       "<AxesSubplot:ylabel='Count'>"
      ]
     },
     "execution_count": 78,
     "metadata": {},
     "output_type": "execute_result"
    },
    {
     "data": {
      "image/png": "[encoded data removed]",
      "text/plain": [
       "<Figure size 432x288 with 1 Axes>"
      ]
     },
     "metadata": {
      "needs_background": "light"
     },
     "output_type": "display_data"
    }
   ],
   "source": [
    "sns.histplot(female_sample_mean,kde=True)"
   ]
  },
  {
   "cell_type": "markdown",
   "id": "300d7801",
   "metadata": {},
   "source": [
    "#### WITH 95% CONFIDENCE INTERVAL FEMALE POPULATION SAMPLE MEAN WILL LIE IN ( 670621.129 - 754648.333 )"
   ]
  },
  {
   "cell_type": "code",
   "execution_count": null,
   "id": "4200cde3",
   "metadata": {},
   "outputs": [],
   "source": []
  },
  {
   "cell_type": "markdown",
   "id": "bcc069c4",
   "metadata": {},
   "source": [
    "### OBSERVATIONS :\n",
    "\n",
    "- 1. THE AVERAGE POPULATION MEAN OF MALE IS HIGHER THAN THE FEMALE.\n",
    "- 2. WITH 95% CONFIDENCE INTERVAL POPULATION SAMPLE MEAN WILL LIE IN ( 9332.324 - 9234.814 ).\n",
    "- 3. WITH 95% CONFIDENCE INTERVAL MALE POPULATION SAMPLE MEAN WILL LIE IN ( 9395.095 - 9494.412 ).\n",
    "- 4. WITH 95% CONFIDENCE INTERVAL FEMALE POPULATION SAMPLE MEAN WILL LIE IN ( 8688.753 - 8784.689 ).\n",
    "- 5. FROM ABOVE TESTS WE COULD CONCLUDE THAT 95% OF TIME MALE AVERAGE MEAN WILL BE HIGHER THAN FEMALE."
   ]
  },
  {
   "cell_type": "code",
   "execution_count": null,
   "id": "99d8558f",
   "metadata": {},
   "outputs": [],
   "source": []
  },
  {
   "cell_type": "code",
   "execution_count": null,
   "id": "db62bd1e",
   "metadata": {},
   "outputs": [],
   "source": []
  },
  {
   "cell_type": "code",
   "execution_count": null,
   "id": "1364bccc",
   "metadata": {},
   "outputs": [],
   "source": []
  },
  {
   "cell_type": "code",
   "execution_count": 79,
   "id": "b831845f",
   "metadata": {},
   "outputs": [
    {
     "data": {
      "text/html": [
       "<div>\n",
       "<style scoped>\n",
       "    .dataframe tbody tr th:only-of-type {\n",
       "        vertical-align: middle;\n",
       "    }\n",
       "\n",
       "    .dataframe tbody tr th {\n",
       "        vertical-align: top;\n",
       "    }\n",
       "\n",
       "    .dataframe thead th {\n",
       "        text-align: right;\n",
       "    }\n",
       "</style>\n",
       "<table border=\"1\" class=\"dataframe\">\n",
       "  <thead>\n",
       "    <tr style=\"text-align: right;\">\n",
       "      <th></th>\n",
       "      <th>User_ID</th>\n",
       "      <th>Product_ID</th>\n",
       "      <th>Gender</th>\n",
       "      <th>Age</th>\n",
       "      <th>Occupation</th>\n",
       "      <th>City_Category</th>\n",
       "      <th>Stay_In_Current_City_Years</th>\n",
       "      <th>Marital_Status</th>\n",
       "      <th>Product_Category</th>\n",
       "      <th>Purchase</th>\n",
       "    </tr>\n",
       "  </thead>\n",
       "  <tbody>\n",
       "    <tr>\n",
       "      <th>0</th>\n",
       "      <td>1000001</td>\n",
       "      <td>P00069042</td>\n",
       "      <td>F</td>\n",
       "      <td>0-17</td>\n",
       "      <td>10</td>\n",
       "      <td>A</td>\n",
       "      <td>2</td>\n",
       "      <td>0</td>\n",
       "      <td>3</td>\n",
       "      <td>8370</td>\n",
       "    </tr>\n",
       "    <tr>\n",
       "      <th>1</th>\n",
       "      <td>1000001</td>\n",
       "      <td>P00248942</td>\n",
       "      <td>F</td>\n",
       "      <td>0-17</td>\n",
       "      <td>10</td>\n",
       "      <td>A</td>\n",
       "      <td>2</td>\n",
       "      <td>0</td>\n",
       "      <td>1</td>\n",
       "      <td>15200</td>\n",
       "    </tr>\n",
       "    <tr>\n",
       "      <th>2</th>\n",
       "      <td>1000001</td>\n",
       "      <td>P00087842</td>\n",
       "      <td>F</td>\n",
       "      <td>0-17</td>\n",
       "      <td>10</td>\n",
       "      <td>A</td>\n",
       "      <td>2</td>\n",
       "      <td>0</td>\n",
       "      <td>12</td>\n",
       "      <td>1422</td>\n",
       "    </tr>\n",
       "    <tr>\n",
       "      <th>3</th>\n",
       "      <td>1000001</td>\n",
       "      <td>P00085442</td>\n",
       "      <td>F</td>\n",
       "      <td>0-17</td>\n",
       "      <td>10</td>\n",
       "      <td>A</td>\n",
       "      <td>2</td>\n",
       "      <td>0</td>\n",
       "      <td>12</td>\n",
       "      <td>1057</td>\n",
       "    </tr>\n",
       "    <tr>\n",
       "      <th>4</th>\n",
       "      <td>1000002</td>\n",
       "      <td>P00285442</td>\n",
       "      <td>M</td>\n",
       "      <td>55+</td>\n",
       "      <td>16</td>\n",
       "      <td>C</td>\n",
       "      <td>4+</td>\n",
       "      <td>0</td>\n",
       "      <td>8</td>\n",
       "      <td>7969</td>\n",
       "    </tr>\n",
       "  </tbody>\n",
       "</table>\n",
       "</div>"
      ],
      "text/plain": [
       "   User_ID Product_ID Gender   Age  Occupation City_Category  \\\n",
       "0  1000001  P00069042      F  0-17          10             A   \n",
       "1  1000001  P00248942      F  0-17          10             A   \n",
       "2  1000001  P00087842      F  0-17          10             A   \n",
       "3  1000001  P00085442      F  0-17          10             A   \n",
       "4  1000002  P00285442      M   55+          16             C   \n",
       "\n",
       "  Stay_In_Current_City_Years  Marital_Status  Product_Category  Purchase  \n",
       "0                          2               0                 3      8370  \n",
       "1                          2               0                 1     15200  \n",
       "2                          2               0                12      1422  \n",
       "3                          2               0                12      1057  \n",
       "4                         4+               0                 8      7969  "
      ]
     },
     "execution_count": 79,
     "metadata": {},
     "output_type": "execute_result"
    }
   ],
   "source": [
    "data.head(5)"
   ]
  },
  {
   "cell_type": "code",
   "execution_count": 106,
   "id": "dfc9da9b",
   "metadata": {
    "scrolled": true
   },
   "outputs": [
    {
     "data": {
      "text/html": [
       "<div>\n",
       "<style scoped>\n",
       "    .dataframe tbody tr th:only-of-type {\n",
       "        vertical-align: middle;\n",
       "    }\n",
       "\n",
       "    .dataframe tbody tr th {\n",
       "        vertical-align: top;\n",
       "    }\n",
       "\n",
       "    .dataframe thead th {\n",
       "        text-align: right;\n",
       "    }\n",
       "</style>\n",
       "<table border=\"1\" class=\"dataframe\">\n",
       "  <thead>\n",
       "    <tr style=\"text-align: right;\">\n",
       "      <th></th>\n",
       "      <th>User_ID</th>\n",
       "      <th>Gender</th>\n",
       "      <th>Purchase</th>\n",
       "    </tr>\n",
       "  </thead>\n",
       "  <tbody>\n",
       "    <tr>\n",
       "      <th>0</th>\n",
       "      <td>1000001</td>\n",
       "      <td>F</td>\n",
       "      <td>334093</td>\n",
       "    </tr>\n",
       "    <tr>\n",
       "      <th>5</th>\n",
       "      <td>1000006</td>\n",
       "      <td>F</td>\n",
       "      <td>379930</td>\n",
       "    </tr>\n",
       "    <tr>\n",
       "      <th>9</th>\n",
       "      <td>1000010</td>\n",
       "      <td>F</td>\n",
       "      <td>2169510</td>\n",
       "    </tr>\n",
       "    <tr>\n",
       "      <th>10</th>\n",
       "      <td>1000011</td>\n",
       "      <td>F</td>\n",
       "      <td>557023</td>\n",
       "    </tr>\n",
       "    <tr>\n",
       "      <th>15</th>\n",
       "      <td>1000016</td>\n",
       "      <td>F</td>\n",
       "      <td>150490</td>\n",
       "    </tr>\n",
       "    <tr>\n",
       "      <th>...</th>\n",
       "      <td>...</td>\n",
       "      <td>...</td>\n",
       "      <td>...</td>\n",
       "    </tr>\n",
       "    <tr>\n",
       "      <th>5885</th>\n",
       "      <td>1006035</td>\n",
       "      <td>F</td>\n",
       "      <td>956645</td>\n",
       "    </tr>\n",
       "    <tr>\n",
       "      <th>5886</th>\n",
       "      <td>1006036</td>\n",
       "      <td>F</td>\n",
       "      <td>4116058</td>\n",
       "    </tr>\n",
       "    <tr>\n",
       "      <th>5887</th>\n",
       "      <td>1006037</td>\n",
       "      <td>F</td>\n",
       "      <td>1119538</td>\n",
       "    </tr>\n",
       "    <tr>\n",
       "      <th>5888</th>\n",
       "      <td>1006038</td>\n",
       "      <td>F</td>\n",
       "      <td>90034</td>\n",
       "    </tr>\n",
       "    <tr>\n",
       "      <th>5889</th>\n",
       "      <td>1006039</td>\n",
       "      <td>F</td>\n",
       "      <td>590319</td>\n",
       "    </tr>\n",
       "  </tbody>\n",
       "</table>\n",
       "<p>1666 rows × 3 columns</p>\n",
       "</div>"
      ],
      "text/plain": [
       "      User_ID Gender  Purchase\n",
       "0     1000001      F    334093\n",
       "5     1000006      F    379930\n",
       "9     1000010      F   2169510\n",
       "10    1000011      F    557023\n",
       "15    1000016      F    150490\n",
       "...       ...    ...       ...\n",
       "5885  1006035      F    956645\n",
       "5886  1006036      F   4116058\n",
       "5887  1006037      F   1119538\n",
       "5888  1006038      F     90034\n",
       "5889  1006039      F    590319\n",
       "\n",
       "[1666 rows x 3 columns]"
      ]
     },
     "execution_count": 106,
     "metadata": {},
     "output_type": "execute_result"
    }
   ],
   "source": [
    "female_data"
   ]
  },
  {
   "cell_type": "code",
   "execution_count": null,
   "id": "c16edf99",
   "metadata": {},
   "outputs": [],
   "source": []
  },
  {
   "cell_type": "code",
   "execution_count": 107,
   "id": "8e4a0a6e",
   "metadata": {},
   "outputs": [
    {
     "data": {
      "text/html": [
       "<div>\n",
       "<style scoped>\n",
       "    .dataframe tbody tr th:only-of-type {\n",
       "        vertical-align: middle;\n",
       "    }\n",
       "\n",
       "    .dataframe tbody tr th {\n",
       "        vertical-align: top;\n",
       "    }\n",
       "\n",
       "    .dataframe thead th {\n",
       "        text-align: right;\n",
       "    }\n",
       "</style>\n",
       "<table border=\"1\" class=\"dataframe\">\n",
       "  <thead>\n",
       "    <tr style=\"text-align: right;\">\n",
       "      <th></th>\n",
       "      <th>User_ID</th>\n",
       "      <th>Gender</th>\n",
       "      <th>Purchase</th>\n",
       "    </tr>\n",
       "  </thead>\n",
       "  <tbody>\n",
       "    <tr>\n",
       "      <th>1</th>\n",
       "      <td>1000002</td>\n",
       "      <td>M</td>\n",
       "      <td>810472</td>\n",
       "    </tr>\n",
       "    <tr>\n",
       "      <th>2</th>\n",
       "      <td>1000003</td>\n",
       "      <td>M</td>\n",
       "      <td>341635</td>\n",
       "    </tr>\n",
       "    <tr>\n",
       "      <th>3</th>\n",
       "      <td>1000004</td>\n",
       "      <td>M</td>\n",
       "      <td>206468</td>\n",
       "    </tr>\n",
       "    <tr>\n",
       "      <th>4</th>\n",
       "      <td>1000005</td>\n",
       "      <td>M</td>\n",
       "      <td>821001</td>\n",
       "    </tr>\n",
       "    <tr>\n",
       "      <th>6</th>\n",
       "      <td>1000007</td>\n",
       "      <td>M</td>\n",
       "      <td>234668</td>\n",
       "    </tr>\n",
       "    <tr>\n",
       "      <th>...</th>\n",
       "      <td>...</td>\n",
       "      <td>...</td>\n",
       "      <td>...</td>\n",
       "    </tr>\n",
       "    <tr>\n",
       "      <th>5880</th>\n",
       "      <td>1006030</td>\n",
       "      <td>M</td>\n",
       "      <td>737361</td>\n",
       "    </tr>\n",
       "    <tr>\n",
       "      <th>5882</th>\n",
       "      <td>1006032</td>\n",
       "      <td>M</td>\n",
       "      <td>517261</td>\n",
       "    </tr>\n",
       "    <tr>\n",
       "      <th>5883</th>\n",
       "      <td>1006033</td>\n",
       "      <td>M</td>\n",
       "      <td>501843</td>\n",
       "    </tr>\n",
       "    <tr>\n",
       "      <th>5884</th>\n",
       "      <td>1006034</td>\n",
       "      <td>M</td>\n",
       "      <td>197086</td>\n",
       "    </tr>\n",
       "    <tr>\n",
       "      <th>5890</th>\n",
       "      <td>1006040</td>\n",
       "      <td>M</td>\n",
       "      <td>1653299</td>\n",
       "    </tr>\n",
       "  </tbody>\n",
       "</table>\n",
       "<p>4225 rows × 3 columns</p>\n",
       "</div>"
      ],
      "text/plain": [
       "      User_ID Gender  Purchase\n",
       "1     1000002      M    810472\n",
       "2     1000003      M    341635\n",
       "3     1000004      M    206468\n",
       "4     1000005      M    821001\n",
       "6     1000007      M    234668\n",
       "...       ...    ...       ...\n",
       "5880  1006030      M    737361\n",
       "5882  1006032      M    517261\n",
       "5883  1006033      M    501843\n",
       "5884  1006034      M    197086\n",
       "5890  1006040      M   1653299\n",
       "\n",
       "[4225 rows x 3 columns]"
      ]
     },
     "execution_count": 107,
     "metadata": {},
     "output_type": "execute_result"
    }
   ],
   "source": [
    "male_data"
   ]
  },
  {
   "cell_type": "code",
   "execution_count": null,
   "id": "15bec60c",
   "metadata": {},
   "outputs": [],
   "source": []
  },
  {
   "cell_type": "markdown",
   "id": "334b0295",
   "metadata": {},
   "source": [
    "### WITH 90% CONFIDENCE INTERVAL"
   ]
  },
  {
   "cell_type": "code",
   "execution_count": null,
   "id": "4f109591",
   "metadata": {},
   "outputs": [],
   "source": []
  },
  {
   "cell_type": "markdown",
   "id": "aaa84316",
   "metadata": {},
   "source": [
    "#### FOR FEMALE"
   ]
  },
  {
   "cell_type": "code",
   "execution_count": 115,
   "id": "7f1ee86c",
   "metadata": {},
   "outputs": [],
   "source": [
    "f_purchase_sample_mean = []\n",
    "for i in range(2000):\n",
    "    a = np.random.choice(female_data['Purchase'],1500)\n",
    "    p_avg = np.mean(a)\n",
    "    f_purchase_sample_mean.append(p_avg)"
   ]
  },
  {
   "cell_type": "code",
   "execution_count": 116,
   "id": "e1f5da52",
   "metadata": {},
   "outputs": [
    {
     "data": {
      "text/plain": [
       "711294.4804509999"
      ]
     },
     "execution_count": 116,
     "metadata": {},
     "output_type": "execute_result"
    }
   ],
   "source": [
    "np.mean(f_purchase_sample_mean)"
   ]
  },
  {
   "cell_type": "code",
   "execution_count": 117,
   "id": "0664839d",
   "metadata": {},
   "outputs": [
    {
     "data": {
      "text/plain": [
       "20278.642203752723"
      ]
     },
     "execution_count": 117,
     "metadata": {},
     "output_type": "execute_result"
    }
   ],
   "source": [
    "np.std(f_purchase_sample_mean)"
   ]
  },
  {
   "cell_type": "code",
   "execution_count": 126,
   "id": "ea704b3e",
   "metadata": {},
   "outputs": [
    {
     "data": {
      "text/plain": [
       "677936.1140258267"
      ]
     },
     "execution_count": 126,
     "metadata": {},
     "output_type": "execute_result"
    }
   ],
   "source": [
    "f_purchase_x1 = np.mean(f_purchase_sample_mean) - 1.645 * np.std(f_purchase_sample_mean)\n",
    "f_purchase_x1"
   ]
  },
  {
   "cell_type": "code",
   "execution_count": 119,
   "id": "d1862c15",
   "metadata": {},
   "outputs": [
    {
     "data": {
      "text/plain": [
       "744652.8468761732"
      ]
     },
     "execution_count": 119,
     "metadata": {},
     "output_type": "execute_result"
    }
   ],
   "source": [
    "f_purchase_x2 = np.mean(f_purchase_sample_mean) + 1.645 * np.std(f_purchase_sample_mean)\n",
    "f_purchase_x2"
   ]
  },
  {
   "cell_type": "code",
   "execution_count": 89,
   "id": "7f7b3834",
   "metadata": {},
   "outputs": [
    {
     "data": {
      "text/plain": [
       "<AxesSubplot:ylabel='Count'>"
      ]
     },
     "execution_count": 89,
     "metadata": {},
     "output_type": "execute_result"
    },
    {
     "data": {
      "image/png": "[encoded data removed]",
      "text/plain": [
       "<Figure size 432x288 with 1 Axes>"
      ]
     },
     "metadata": {
      "needs_background": "light"
     },
     "output_type": "display_data"
    }
   ],
   "source": [
    "sns.histplot(data=f_purchase_sample_mean,kde=True)"
   ]
  },
  {
   "cell_type": "markdown",
   "id": "e1a041a1",
   "metadata": {},
   "source": [
    "#### WITH 90% CONFIDENCE INTERVAL, WE CAN SAY THAT MEAN VALUE OF FEMALE PURCHASES LIES BETWEEN RANGE 670440.925 - 754464.877"
   ]
  },
  {
   "cell_type": "code",
   "execution_count": null,
   "id": "37c971f9",
   "metadata": {},
   "outputs": [],
   "source": []
  },
  {
   "cell_type": "code",
   "execution_count": null,
   "id": "0ae43c51",
   "metadata": {},
   "outputs": [],
   "source": []
  },
  {
   "cell_type": "markdown",
   "id": "9e60d9ce",
   "metadata": {},
   "source": [
    "#### FOR MALE"
   ]
  },
  {
   "cell_type": "code",
   "execution_count": 120,
   "id": "8eaf2d84",
   "metadata": {},
   "outputs": [],
   "source": [
    "m_purchase_sample_mean = []\n",
    "for i in range(2000):\n",
    "    a = np.random.choice(male_data['Purchase'],3000)\n",
    "    p_avg = np.mean(a)\n",
    "    m_purchase_sample_mean.append(p_avg)"
   ]
  },
  {
   "cell_type": "code",
   "execution_count": 121,
   "id": "fe7bc583",
   "metadata": {},
   "outputs": [
    {
     "data": {
      "text/plain": [
       "924324.2904443333"
      ]
     },
     "execution_count": 121,
     "metadata": {},
     "output_type": "execute_result"
    }
   ],
   "source": [
    "np.mean(m_purchase_sample_mean)"
   ]
  },
  {
   "cell_type": "code",
   "execution_count": 122,
   "id": "653f019e",
   "metadata": {},
   "outputs": [
    {
     "data": {
      "text/plain": [
       "18208.95427421146"
      ]
     },
     "execution_count": 122,
     "metadata": {},
     "output_type": "execute_result"
    }
   ],
   "source": [
    "np.std(m_purchase_sample_mean)"
   ]
  },
  {
   "cell_type": "code",
   "execution_count": 123,
   "id": "c7de6ff4",
   "metadata": {},
   "outputs": [
    {
     "data": {
      "text/plain": [
       "894370.5606632555"
      ]
     },
     "execution_count": 123,
     "metadata": {},
     "output_type": "execute_result"
    }
   ],
   "source": [
    "m_purchase_x1 = np.mean(m_purchase_sample_mean) - 1.645 * np.std(m_purchase_sample_mean)\n",
    "m_purchase_x1"
   ]
  },
  {
   "cell_type": "code",
   "execution_count": 124,
   "id": "f94df98c",
   "metadata": {},
   "outputs": [
    {
     "data": {
      "text/plain": [
       "954278.0202254112"
      ]
     },
     "execution_count": 124,
     "metadata": {},
     "output_type": "execute_result"
    }
   ],
   "source": [
    "m_purchase_x2 = np.mean(m_purchase_sample_mean) + 1.645 * np.std(m_purchase_sample_mean)\n",
    "m_purchase_x2"
   ]
  },
  {
   "cell_type": "code",
   "execution_count": 96,
   "id": "8e63b096",
   "metadata": {},
   "outputs": [
    {
     "data": {
      "text/plain": [
       "<AxesSubplot:ylabel='Count'>"
      ]
     },
     "execution_count": 96,
     "metadata": {},
     "output_type": "execute_result"
    },
    {
     "data": {
      "image/png": "[encoded data removed]",
      "text/plain": [
       "<Figure size 432x288 with 1 Axes>"
      ]
     },
     "metadata": {
      "needs_background": "light"
     },
     "output_type": "display_data"
    }
   ],
   "source": [
    "sns.histplot(data=m_purchase_sample_mean,kde=True)"
   ]
  },
  {
   "cell_type": "markdown",
   "id": "071a815d",
   "metadata": {},
   "source": [
    "#### WITH 90% CONFIDENCE INTERVAL, WE CAN SAY THAT MEAN VALUE OF MALE PURCHASES LIES BETWEEN RANGE 894370.560 - 954278.020"
   ]
  },
  {
   "cell_type": "code",
   "execution_count": null,
   "id": "da21a61d",
   "metadata": {},
   "outputs": [],
   "source": []
  },
  {
   "cell_type": "code",
   "execution_count": null,
   "id": "88abf0f8",
   "metadata": {},
   "outputs": [],
   "source": []
  },
  {
   "cell_type": "markdown",
   "id": "4d09be36",
   "metadata": {},
   "source": [
    "### WITH 95% CONFIDENCE INTERVAL"
   ]
  },
  {
   "cell_type": "code",
   "execution_count": null,
   "id": "99ed68fe",
   "metadata": {},
   "outputs": [],
   "source": []
  },
  {
   "cell_type": "markdown",
   "id": "edd6ad28",
   "metadata": {},
   "source": [
    "#### FOR FEMALE"
   ]
  },
  {
   "cell_type": "code",
   "execution_count": 128,
   "id": "f3972681",
   "metadata": {},
   "outputs": [
    {
     "data": {
      "text/plain": [
       "671548.3417316446"
      ]
     },
     "execution_count": 128,
     "metadata": {},
     "output_type": "execute_result"
    }
   ],
   "source": [
    "f_purchase_95_x1 = np.mean(f_purchase_sample_mean) - 1.96 * np.std(f_purchase_sample_mean)\n",
    "f_purchase_95_x1"
   ]
  },
  {
   "cell_type": "code",
   "execution_count": 129,
   "id": "66052ca4",
   "metadata": {},
   "outputs": [
    {
     "data": {
      "text/plain": [
       "713071.9818113922"
      ]
     },
     "execution_count": 129,
     "metadata": {},
     "output_type": "execute_result"
    }
   ],
   "source": [
    "f_purchase_95_x2 = np.mean(f_purchase_sample_mean) + 1.96 * np.std(f_purchase_sample_mean)/np.sqrt(500)\n",
    "f_purchase_95_x2"
   ]
  },
  {
   "cell_type": "code",
   "execution_count": 130,
   "id": "4d26e792",
   "metadata": {},
   "outputs": [
    {
     "data": {
      "text/plain": [
       "(671548.3417316446, 713071.9818113922)"
      ]
     },
     "execution_count": 130,
     "metadata": {},
     "output_type": "execute_result"
    }
   ],
   "source": [
    "f_purchase_95_x1,f_purchase_95_x2"
   ]
  },
  {
   "cell_type": "markdown",
   "id": "bf8e77a2",
   "metadata": {},
   "source": [
    "#### WITH 95% CONFIDENCE INTERVAL WE CAN SAY THAT THE MEAN VALUE OF FEMALE PURCHASES LIES BETWEEN RANGE 671548.341 - 713071.981"
   ]
  },
  {
   "cell_type": "code",
   "execution_count": null,
   "id": "c90b2d2d",
   "metadata": {},
   "outputs": [],
   "source": []
  },
  {
   "cell_type": "markdown",
   "id": "336a424e",
   "metadata": {},
   "source": [
    "#### FOR MALE"
   ]
  },
  {
   "cell_type": "code",
   "execution_count": 131,
   "id": "17d719c3",
   "metadata": {},
   "outputs": [
    {
     "data": {
      "text/plain": [
       "888634.7400668788"
      ]
     },
     "execution_count": 131,
     "metadata": {},
     "output_type": "execute_result"
    }
   ],
   "source": [
    "m_purchase_95_x1 = np.mean(m_purchase_sample_mean) - 1.96 * np.std(m_purchase_sample_mean)\n",
    "m_purchase_95_x1"
   ]
  },
  {
   "cell_type": "code",
   "execution_count": 132,
   "id": "e552f4de",
   "metadata": {},
   "outputs": [
    {
     "data": {
      "text/plain": [
       "960013.8408217878"
      ]
     },
     "execution_count": 132,
     "metadata": {},
     "output_type": "execute_result"
    }
   ],
   "source": [
    "m_purchase_95_x2 = np.mean(m_purchase_sample_mean) + 1.96 * np.std(m_purchase_sample_mean)\n",
    "m_purchase_95_x2"
   ]
  },
  {
   "cell_type": "code",
   "execution_count": 133,
   "id": "72caaf38",
   "metadata": {},
   "outputs": [
    {
     "data": {
      "text/plain": [
       "(894370.5606632555, 954278.0202254112)"
      ]
     },
     "execution_count": 133,
     "metadata": {},
     "output_type": "execute_result"
    }
   ],
   "source": [
    "m_purchase_x1,m_purchase_x2"
   ]
  },
  {
   "cell_type": "markdown",
   "id": "945f0639",
   "metadata": {},
   "source": [
    "#### WITH 95% CONFIDENCE INTERVAL WE CAN SAY THAT THE MEAN VALUE OF MALE PURCHASES LIES BETWEEN RANGE 894370.560 - 954278.020"
   ]
  },
  {
   "cell_type": "code",
   "execution_count": null,
   "id": "aa8000b2",
   "metadata": {},
   "outputs": [],
   "source": []
  },
  {
   "cell_type": "code",
   "execution_count": null,
   "id": "bf41fc8b",
   "metadata": {},
   "outputs": [],
   "source": []
  },
  {
   "cell_type": "markdown",
   "id": "1ce0ee77",
   "metadata": {},
   "source": [
    "### WITH 99% CONFIDENCE INTERVAL"
   ]
  },
  {
   "cell_type": "code",
   "execution_count": null,
   "id": "7c83f027",
   "metadata": {},
   "outputs": [],
   "source": []
  },
  {
   "cell_type": "markdown",
   "id": "55faf166",
   "metadata": {},
   "source": [
    "#### FOR FEMALE"
   ]
  },
  {
   "cell_type": "code",
   "execution_count": 134,
   "id": "0fa76034",
   "metadata": {},
   "outputs": [
    {
     "data": {
      "text/plain": [
       "659056.6981341329"
      ]
     },
     "execution_count": 134,
     "metadata": {},
     "output_type": "execute_result"
    }
   ],
   "source": [
    "f_purchase_99_x1 = np.mean(f_purchase_sample_mean) - 2.576 * np.std(f_purchase_sample_mean)\n",
    "f_purchase_99_x1"
   ]
  },
  {
   "cell_type": "code",
   "execution_count": 135,
   "id": "7fbeb3a8",
   "metadata": {},
   "outputs": [
    {
     "data": {
      "text/plain": [
       "713630.625096087"
      ]
     },
     "execution_count": 135,
     "metadata": {},
     "output_type": "execute_result"
    }
   ],
   "source": [
    "f_purchase_99_x2 = np.mean(f_purchase_sample_mean) + 2.576 * np.std(f_purchase_sample_mean)/np.sqrt(500)\n",
    "f_purchase_99_x2"
   ]
  },
  {
   "cell_type": "code",
   "execution_count": 136,
   "id": "7015497b",
   "metadata": {},
   "outputs": [
    {
     "data": {
      "text/plain": [
       "(659056.6981341329, 713630.625096087)"
      ]
     },
     "execution_count": 136,
     "metadata": {},
     "output_type": "execute_result"
    }
   ],
   "source": [
    "f_purchase_99_x1,f_purchase_99_x2"
   ]
  },
  {
   "cell_type": "markdown",
   "id": "65acb0df",
   "metadata": {},
   "source": [
    "#### WITH 99% CONFIDENCE INTERVAL WE CAN SAY THAT THE MEAN VALUE OF FEMALE PURCHASES LIES BETWEEN RANGE 659056.698 - 713630.625"
   ]
  },
  {
   "cell_type": "code",
   "execution_count": null,
   "id": "3cba6ddc",
   "metadata": {},
   "outputs": [],
   "source": []
  },
  {
   "cell_type": "markdown",
   "id": "69d2e67e",
   "metadata": {},
   "source": [
    "#### FOR MALE"
   ]
  },
  {
   "cell_type": "code",
   "execution_count": 137,
   "id": "9d1ca696",
   "metadata": {},
   "outputs": [
    {
     "data": {
      "text/plain": [
       "877418.0242339646"
      ]
     },
     "execution_count": 137,
     "metadata": {},
     "output_type": "execute_result"
    }
   ],
   "source": [
    "m_purchase_99_x1 = np.mean(m_purchase_sample_mean) - 2.576 * np.std(m_purchase_sample_mean)\n",
    "m_purchase_99_x1"
   ]
  },
  {
   "cell_type": "code",
   "execution_count": 138,
   "id": "6db6b236",
   "metadata": {},
   "outputs": [
    {
     "data": {
      "text/plain": [
       "971230.556654702"
      ]
     },
     "execution_count": 138,
     "metadata": {},
     "output_type": "execute_result"
    }
   ],
   "source": [
    "m_purchase_99_x2 = np.mean(m_purchase_sample_mean) + 2.576 * np.std(m_purchase_sample_mean)\n",
    "m_purchase_99_x2"
   ]
  },
  {
   "cell_type": "code",
   "execution_count": 139,
   "id": "17544fcd",
   "metadata": {},
   "outputs": [
    {
     "data": {
      "text/plain": [
       "(877418.0242339646, 971230.556654702)"
      ]
     },
     "execution_count": 139,
     "metadata": {},
     "output_type": "execute_result"
    }
   ],
   "source": [
    "m_purchase_99_x1,m_purchase_99_x2"
   ]
  },
  {
   "cell_type": "markdown",
   "id": "1fd1b241",
   "metadata": {},
   "source": [
    "#### WITH 99% CONFIDENCE INTERVAL WE CAN SAY THAT THE MEAN VALUE OF MALE PURCHASES LIES BETWEEN RANGE 877418.024 - 971230.556"
   ]
  },
  {
   "cell_type": "code",
   "execution_count": null,
   "id": "77ca7652",
   "metadata": {},
   "outputs": [],
   "source": []
  },
  {
   "cell_type": "code",
   "execution_count": null,
   "id": "169d62bc",
   "metadata": {},
   "outputs": [],
   "source": []
  },
  {
   "cell_type": "code",
   "execution_count": null,
   "id": "35631aff",
   "metadata": {},
   "outputs": [],
   "source": []
  },
  {
   "cell_type": "markdown",
   "id": "bcb4f048",
   "metadata": {},
   "source": [
    "### Q. OVERLAP OR NOT"
   ]
  },
  {
   "cell_type": "code",
   "execution_count": null,
   "id": "525e70da",
   "metadata": {},
   "outputs": [],
   "source": []
  },
  {
   "cell_type": "markdown",
   "id": "ebaee5c1",
   "metadata": {},
   "source": [
    "#### FOR MALE WITH 95% CONFIDENCE INTERVAL"
   ]
  },
  {
   "cell_type": "code",
   "execution_count": 140,
   "id": "988f2a16",
   "metadata": {},
   "outputs": [
    {
     "data": {
      "text/plain": [
       "888634.7400668788"
      ]
     },
     "execution_count": 140,
     "metadata": {},
     "output_type": "execute_result"
    }
   ],
   "source": [
    "m_purchase_95_x1 = np.mean(m_purchase_sample_mean) - 1.96 * np.std(m_purchase_sample_mean)\n",
    "m_purchase_95_x1"
   ]
  },
  {
   "cell_type": "code",
   "execution_count": 141,
   "id": "0ce8774b",
   "metadata": {},
   "outputs": [
    {
     "data": {
      "text/plain": [
       "960013.8408217878"
      ]
     },
     "execution_count": 141,
     "metadata": {},
     "output_type": "execute_result"
    }
   ],
   "source": [
    "m_purchase_95_x2 = np.mean(m_purchase_sample_mean) + 1.96 * np.std(m_purchase_sample_mean)\n",
    "m_purchase_95_x2"
   ]
  },
  {
   "cell_type": "code",
   "execution_count": 142,
   "id": "11a5f353",
   "metadata": {},
   "outputs": [
    {
     "data": {
      "text/plain": [
       "(888634.7400668788, 960013.8408217878)"
      ]
     },
     "execution_count": 142,
     "metadata": {},
     "output_type": "execute_result"
    }
   ],
   "source": [
    "m_purchase_95_x1,m_purchase_95_x2"
   ]
  },
  {
   "cell_type": "code",
   "execution_count": null,
   "id": "26cf21e9",
   "metadata": {},
   "outputs": [],
   "source": []
  },
  {
   "cell_type": "markdown",
   "id": "f2716519",
   "metadata": {},
   "source": [
    "#### FOR FEMALE WITH 95% CONFIDENCE INTERVAL"
   ]
  },
  {
   "cell_type": "code",
   "execution_count": 143,
   "id": "51c4febb",
   "metadata": {},
   "outputs": [
    {
     "data": {
      "text/plain": [
       "671548.3417316446"
      ]
     },
     "execution_count": 143,
     "metadata": {},
     "output_type": "execute_result"
    }
   ],
   "source": [
    "f_purchase_95_x1 = np.mean(f_purchase_sample_mean) - 1.96 * np.std(f_purchase_sample_mean)\n",
    "f_purchase_95_x1"
   ]
  },
  {
   "cell_type": "code",
   "execution_count": 144,
   "id": "cc4a6408",
   "metadata": {},
   "outputs": [
    {
     "data": {
      "text/plain": [
       "751040.6191703553"
      ]
     },
     "execution_count": 144,
     "metadata": {},
     "output_type": "execute_result"
    }
   ],
   "source": [
    "f_purchase_95_x2 = np.mean(f_purchase_sample_mean) + 1.96 * np.std(f_purchase_sample_mean)\n",
    "f_purchase_95_x2"
   ]
  },
  {
   "cell_type": "code",
   "execution_count": 145,
   "id": "20c13fd0",
   "metadata": {},
   "outputs": [
    {
     "data": {
      "text/plain": [
       "(671548.3417316446, 751040.6191703553)"
      ]
     },
     "execution_count": 145,
     "metadata": {},
     "output_type": "execute_result"
    }
   ],
   "source": [
    "f_purchase_95_x1,f_purchase_95_x2"
   ]
  },
  {
   "cell_type": "code",
   "execution_count": null,
   "id": "d0384334",
   "metadata": {},
   "outputs": [],
   "source": []
  },
  {
   "cell_type": "code",
   "execution_count": null,
   "id": "3d6cccb0",
   "metadata": {},
   "outputs": [],
   "source": []
  },
  {
   "cell_type": "markdown",
   "id": "365d8281",
   "metadata": {},
   "source": [
    "### OBSERVATIONS :"
   ]
  },
  {
   "cell_type": "markdown",
   "id": "a812fecd",
   "metadata": {},
   "source": [
    "#### SINCE NOT WITH ONLY 95% CONFIDENCE INTERVAL BUT WITH  EITHER  OF THEM, THE INTERVALS DOES NOT OVERLAPPED. \n",
    "\n",
    "#### THEREFORE WALLMART SHOULD TARGET MORE ON MALE CUSTOMERS AS THEIR MEAN SPENDINGS ARE MORE THAN FEMALE."
   ]
  },
  {
   "cell_type": "code",
   "execution_count": null,
   "id": "4afe2a12",
   "metadata": {},
   "outputs": [],
   "source": []
  },
  {
   "cell_type": "code",
   "execution_count": null,
   "id": "b40e98c4",
   "metadata": {},
   "outputs": [],
   "source": []
  },
  {
   "cell_type": "code",
   "execution_count": null,
   "id": "e4d29de2",
   "metadata": {},
   "outputs": [],
   "source": [
    "# Q 6A"
   ]
  },
  {
   "cell_type": "code",
   "execution_count": 115,
   "id": "e0d52a63",
   "metadata": {},
   "outputs": [
    {
     "data": {
      "text/html": [
       "<div>\n",
       "<style scoped>\n",
       "    .dataframe tbody tr th:only-of-type {\n",
       "        vertical-align: middle;\n",
       "    }\n",
       "\n",
       "    .dataframe tbody tr th {\n",
       "        vertical-align: top;\n",
       "    }\n",
       "\n",
       "    .dataframe thead th {\n",
       "        text-align: right;\n",
       "    }\n",
       "</style>\n",
       "<table border=\"1\" class=\"dataframe\">\n",
       "  <thead>\n",
       "    <tr style=\"text-align: right;\">\n",
       "      <th></th>\n",
       "      <th>User_ID</th>\n",
       "      <th>Product_ID</th>\n",
       "      <th>Gender</th>\n",
       "      <th>Age</th>\n",
       "      <th>Occupation</th>\n",
       "      <th>City_Category</th>\n",
       "      <th>Stay_In_Current_City_Years</th>\n",
       "      <th>Marital_Status</th>\n",
       "      <th>Product_Category</th>\n",
       "      <th>Purchase</th>\n",
       "    </tr>\n",
       "  </thead>\n",
       "  <tbody>\n",
       "    <tr>\n",
       "      <th>0</th>\n",
       "      <td>1000001</td>\n",
       "      <td>P00069042</td>\n",
       "      <td>F</td>\n",
       "      <td>0-17</td>\n",
       "      <td>10</td>\n",
       "      <td>A</td>\n",
       "      <td>2</td>\n",
       "      <td>0</td>\n",
       "      <td>3</td>\n",
       "      <td>8370</td>\n",
       "    </tr>\n",
       "    <tr>\n",
       "      <th>1</th>\n",
       "      <td>1000001</td>\n",
       "      <td>P00248942</td>\n",
       "      <td>F</td>\n",
       "      <td>0-17</td>\n",
       "      <td>10</td>\n",
       "      <td>A</td>\n",
       "      <td>2</td>\n",
       "      <td>0</td>\n",
       "      <td>1</td>\n",
       "      <td>15200</td>\n",
       "    </tr>\n",
       "    <tr>\n",
       "      <th>2</th>\n",
       "      <td>1000001</td>\n",
       "      <td>P00087842</td>\n",
       "      <td>F</td>\n",
       "      <td>0-17</td>\n",
       "      <td>10</td>\n",
       "      <td>A</td>\n",
       "      <td>2</td>\n",
       "      <td>0</td>\n",
       "      <td>12</td>\n",
       "      <td>1422</td>\n",
       "    </tr>\n",
       "    <tr>\n",
       "      <th>3</th>\n",
       "      <td>1000001</td>\n",
       "      <td>P00085442</td>\n",
       "      <td>F</td>\n",
       "      <td>0-17</td>\n",
       "      <td>10</td>\n",
       "      <td>A</td>\n",
       "      <td>2</td>\n",
       "      <td>0</td>\n",
       "      <td>12</td>\n",
       "      <td>1057</td>\n",
       "    </tr>\n",
       "    <tr>\n",
       "      <th>4</th>\n",
       "      <td>1000002</td>\n",
       "      <td>P00285442</td>\n",
       "      <td>M</td>\n",
       "      <td>55+</td>\n",
       "      <td>16</td>\n",
       "      <td>C</td>\n",
       "      <td>4+</td>\n",
       "      <td>0</td>\n",
       "      <td>8</td>\n",
       "      <td>7969</td>\n",
       "    </tr>\n",
       "  </tbody>\n",
       "</table>\n",
       "</div>"
      ],
      "text/plain": [
       "   User_ID Product_ID Gender   Age  Occupation City_Category  \\\n",
       "0  1000001  P00069042      F  0-17          10             A   \n",
       "1  1000001  P00248942      F  0-17          10             A   \n",
       "2  1000001  P00087842      F  0-17          10             A   \n",
       "3  1000001  P00085442      F  0-17          10             A   \n",
       "4  1000002  P00285442      M   55+          16             C   \n",
       "\n",
       "  Stay_In_Current_City_Years  Marital_Status  Product_Category  Purchase  \n",
       "0                          2               0                 3      8370  \n",
       "1                          2               0                 1     15200  \n",
       "2                          2               0                12      1422  \n",
       "3                          2               0                12      1057  \n",
       "4                         4+               0                 8      7969  "
      ]
     },
     "execution_count": 115,
     "metadata": {},
     "output_type": "execute_result"
    }
   ],
   "source": [
    "data.head(5)"
   ]
  },
  {
   "cell_type": "code",
   "execution_count": null,
   "id": "11a38612",
   "metadata": {},
   "outputs": [],
   "source": []
  },
  {
   "cell_type": "code",
   "execution_count": 146,
   "id": "cc4a9c28",
   "metadata": {},
   "outputs": [
    {
     "data": {
      "text/html": [
       "<div>\n",
       "<style scoped>\n",
       "    .dataframe tbody tr th:only-of-type {\n",
       "        vertical-align: middle;\n",
       "    }\n",
       "\n",
       "    .dataframe tbody tr th {\n",
       "        vertical-align: top;\n",
       "    }\n",
       "\n",
       "    .dataframe thead th {\n",
       "        text-align: right;\n",
       "    }\n",
       "</style>\n",
       "<table border=\"1\" class=\"dataframe\">\n",
       "  <thead>\n",
       "    <tr style=\"text-align: right;\">\n",
       "      <th></th>\n",
       "      <th>User_ID</th>\n",
       "      <th>Marital_Status</th>\n",
       "      <th>Purchase</th>\n",
       "    </tr>\n",
       "  </thead>\n",
       "  <tbody>\n",
       "    <tr>\n",
       "      <th>0</th>\n",
       "      <td>1000001</td>\n",
       "      <td>0</td>\n",
       "      <td>334093</td>\n",
       "    </tr>\n",
       "    <tr>\n",
       "      <th>1</th>\n",
       "      <td>1000002</td>\n",
       "      <td>0</td>\n",
       "      <td>810472</td>\n",
       "    </tr>\n",
       "    <tr>\n",
       "      <th>2</th>\n",
       "      <td>1000003</td>\n",
       "      <td>0</td>\n",
       "      <td>341635</td>\n",
       "    </tr>\n",
       "    <tr>\n",
       "      <th>3</th>\n",
       "      <td>1000004</td>\n",
       "      <td>1</td>\n",
       "      <td>206468</td>\n",
       "    </tr>\n",
       "    <tr>\n",
       "      <th>4</th>\n",
       "      <td>1000005</td>\n",
       "      <td>1</td>\n",
       "      <td>821001</td>\n",
       "    </tr>\n",
       "    <tr>\n",
       "      <th>...</th>\n",
       "      <td>...</td>\n",
       "      <td>...</td>\n",
       "      <td>...</td>\n",
       "    </tr>\n",
       "    <tr>\n",
       "      <th>5886</th>\n",
       "      <td>1006036</td>\n",
       "      <td>1</td>\n",
       "      <td>4116058</td>\n",
       "    </tr>\n",
       "    <tr>\n",
       "      <th>5887</th>\n",
       "      <td>1006037</td>\n",
       "      <td>0</td>\n",
       "      <td>1119538</td>\n",
       "    </tr>\n",
       "    <tr>\n",
       "      <th>5888</th>\n",
       "      <td>1006038</td>\n",
       "      <td>0</td>\n",
       "      <td>90034</td>\n",
       "    </tr>\n",
       "    <tr>\n",
       "      <th>5889</th>\n",
       "      <td>1006039</td>\n",
       "      <td>1</td>\n",
       "      <td>590319</td>\n",
       "    </tr>\n",
       "    <tr>\n",
       "      <th>5890</th>\n",
       "      <td>1006040</td>\n",
       "      <td>0</td>\n",
       "      <td>1653299</td>\n",
       "    </tr>\n",
       "  </tbody>\n",
       "</table>\n",
       "<p>5891 rows × 3 columns</p>\n",
       "</div>"
      ],
      "text/plain": [
       "      User_ID  Marital_Status  Purchase\n",
       "0     1000001               0    334093\n",
       "1     1000002               0    810472\n",
       "2     1000003               0    341635\n",
       "3     1000004               1    206468\n",
       "4     1000005               1    821001\n",
       "...       ...             ...       ...\n",
       "5886  1006036               1   4116058\n",
       "5887  1006037               0   1119538\n",
       "5888  1006038               0     90034\n",
       "5889  1006039               1    590319\n",
       "5890  1006040               0   1653299\n",
       "\n",
       "[5891 rows x 3 columns]"
      ]
     },
     "execution_count": 146,
     "metadata": {},
     "output_type": "execute_result"
    }
   ],
   "source": [
    "marital_data = data.groupby(['User_ID','Marital_Status'])['Purchase'].sum().reset_index()\n",
    "marital_data"
   ]
  },
  {
   "cell_type": "code",
   "execution_count": 147,
   "id": "c868d1d7",
   "metadata": {},
   "outputs": [
    {
     "data": {
      "text/html": [
       "<div>\n",
       "<style scoped>\n",
       "    .dataframe tbody tr th:only-of-type {\n",
       "        vertical-align: middle;\n",
       "    }\n",
       "\n",
       "    .dataframe tbody tr th {\n",
       "        vertical-align: top;\n",
       "    }\n",
       "\n",
       "    .dataframe thead th {\n",
       "        text-align: right;\n",
       "    }\n",
       "</style>\n",
       "<table border=\"1\" class=\"dataframe\">\n",
       "  <thead>\n",
       "    <tr style=\"text-align: right;\">\n",
       "      <th></th>\n",
       "      <th>User_ID</th>\n",
       "      <th>Marital_Status</th>\n",
       "      <th>Purchase</th>\n",
       "    </tr>\n",
       "  </thead>\n",
       "  <tbody>\n",
       "    <tr>\n",
       "      <th>0</th>\n",
       "      <td>1000001</td>\n",
       "      <td>0</td>\n",
       "      <td>334093</td>\n",
       "    </tr>\n",
       "    <tr>\n",
       "      <th>1</th>\n",
       "      <td>1000002</td>\n",
       "      <td>0</td>\n",
       "      <td>810472</td>\n",
       "    </tr>\n",
       "    <tr>\n",
       "      <th>2</th>\n",
       "      <td>1000003</td>\n",
       "      <td>0</td>\n",
       "      <td>341635</td>\n",
       "    </tr>\n",
       "    <tr>\n",
       "      <th>5</th>\n",
       "      <td>1000006</td>\n",
       "      <td>0</td>\n",
       "      <td>379930</td>\n",
       "    </tr>\n",
       "    <tr>\n",
       "      <th>8</th>\n",
       "      <td>1000009</td>\n",
       "      <td>0</td>\n",
       "      <td>594099</td>\n",
       "    </tr>\n",
       "    <tr>\n",
       "      <th>...</th>\n",
       "      <td>...</td>\n",
       "      <td>...</td>\n",
       "      <td>...</td>\n",
       "    </tr>\n",
       "    <tr>\n",
       "      <th>5884</th>\n",
       "      <td>1006034</td>\n",
       "      <td>0</td>\n",
       "      <td>197086</td>\n",
       "    </tr>\n",
       "    <tr>\n",
       "      <th>5885</th>\n",
       "      <td>1006035</td>\n",
       "      <td>0</td>\n",
       "      <td>956645</td>\n",
       "    </tr>\n",
       "    <tr>\n",
       "      <th>5887</th>\n",
       "      <td>1006037</td>\n",
       "      <td>0</td>\n",
       "      <td>1119538</td>\n",
       "    </tr>\n",
       "    <tr>\n",
       "      <th>5888</th>\n",
       "      <td>1006038</td>\n",
       "      <td>0</td>\n",
       "      <td>90034</td>\n",
       "    </tr>\n",
       "    <tr>\n",
       "      <th>5890</th>\n",
       "      <td>1006040</td>\n",
       "      <td>0</td>\n",
       "      <td>1653299</td>\n",
       "    </tr>\n",
       "  </tbody>\n",
       "</table>\n",
       "<p>3417 rows × 3 columns</p>\n",
       "</div>"
      ],
      "text/plain": [
       "      User_ID  Marital_Status  Purchase\n",
       "0     1000001               0    334093\n",
       "1     1000002               0    810472\n",
       "2     1000003               0    341635\n",
       "5     1000006               0    379930\n",
       "8     1000009               0    594099\n",
       "...       ...             ...       ...\n",
       "5884  1006034               0    197086\n",
       "5885  1006035               0    956645\n",
       "5887  1006037               0   1119538\n",
       "5888  1006038               0     90034\n",
       "5890  1006040               0   1653299\n",
       "\n",
       "[3417 rows x 3 columns]"
      ]
     },
     "execution_count": 147,
     "metadata": {},
     "output_type": "execute_result"
    }
   ],
   "source": [
    "singles = marital_data[marital_data['Marital_Status']==0]\n",
    "singles"
   ]
  },
  {
   "cell_type": "code",
   "execution_count": 148,
   "id": "93b14819",
   "metadata": {},
   "outputs": [
    {
     "data": {
      "text/html": [
       "<div>\n",
       "<style scoped>\n",
       "    .dataframe tbody tr th:only-of-type {\n",
       "        vertical-align: middle;\n",
       "    }\n",
       "\n",
       "    .dataframe tbody tr th {\n",
       "        vertical-align: top;\n",
       "    }\n",
       "\n",
       "    .dataframe thead th {\n",
       "        text-align: right;\n",
       "    }\n",
       "</style>\n",
       "<table border=\"1\" class=\"dataframe\">\n",
       "  <thead>\n",
       "    <tr style=\"text-align: right;\">\n",
       "      <th></th>\n",
       "      <th>User_ID</th>\n",
       "      <th>Marital_Status</th>\n",
       "      <th>Purchase</th>\n",
       "    </tr>\n",
       "  </thead>\n",
       "  <tbody>\n",
       "    <tr>\n",
       "      <th>3</th>\n",
       "      <td>1000004</td>\n",
       "      <td>1</td>\n",
       "      <td>206468</td>\n",
       "    </tr>\n",
       "    <tr>\n",
       "      <th>4</th>\n",
       "      <td>1000005</td>\n",
       "      <td>1</td>\n",
       "      <td>821001</td>\n",
       "    </tr>\n",
       "    <tr>\n",
       "      <th>6</th>\n",
       "      <td>1000007</td>\n",
       "      <td>1</td>\n",
       "      <td>234668</td>\n",
       "    </tr>\n",
       "    <tr>\n",
       "      <th>7</th>\n",
       "      <td>1000008</td>\n",
       "      <td>1</td>\n",
       "      <td>796593</td>\n",
       "    </tr>\n",
       "    <tr>\n",
       "      <th>9</th>\n",
       "      <td>1000010</td>\n",
       "      <td>1</td>\n",
       "      <td>2169510</td>\n",
       "    </tr>\n",
       "    <tr>\n",
       "      <th>...</th>\n",
       "      <td>...</td>\n",
       "      <td>...</td>\n",
       "      <td>...</td>\n",
       "    </tr>\n",
       "    <tr>\n",
       "      <th>5879</th>\n",
       "      <td>1006029</td>\n",
       "      <td>1</td>\n",
       "      <td>157436</td>\n",
       "    </tr>\n",
       "    <tr>\n",
       "      <th>5880</th>\n",
       "      <td>1006030</td>\n",
       "      <td>1</td>\n",
       "      <td>737361</td>\n",
       "    </tr>\n",
       "    <tr>\n",
       "      <th>5883</th>\n",
       "      <td>1006033</td>\n",
       "      <td>1</td>\n",
       "      <td>501843</td>\n",
       "    </tr>\n",
       "    <tr>\n",
       "      <th>5886</th>\n",
       "      <td>1006036</td>\n",
       "      <td>1</td>\n",
       "      <td>4116058</td>\n",
       "    </tr>\n",
       "    <tr>\n",
       "      <th>5889</th>\n",
       "      <td>1006039</td>\n",
       "      <td>1</td>\n",
       "      <td>590319</td>\n",
       "    </tr>\n",
       "  </tbody>\n",
       "</table>\n",
       "<p>2474 rows × 3 columns</p>\n",
       "</div>"
      ],
      "text/plain": [
       "      User_ID  Marital_Status  Purchase\n",
       "3     1000004               1    206468\n",
       "4     1000005               1    821001\n",
       "6     1000007               1    234668\n",
       "7     1000008               1    796593\n",
       "9     1000010               1   2169510\n",
       "...       ...             ...       ...\n",
       "5879  1006029               1    157436\n",
       "5880  1006030               1    737361\n",
       "5883  1006033               1    501843\n",
       "5886  1006036               1   4116058\n",
       "5889  1006039               1    590319\n",
       "\n",
       "[2474 rows x 3 columns]"
      ]
     },
     "execution_count": 148,
     "metadata": {},
     "output_type": "execute_result"
    }
   ],
   "source": [
    "married = marital_data[marital_data['Marital_Status']==1]\n",
    "married"
   ]
  },
  {
   "cell_type": "code",
   "execution_count": null,
   "id": "2ffaae82",
   "metadata": {},
   "outputs": [],
   "source": []
  },
  {
   "cell_type": "code",
   "execution_count": 149,
   "id": "2bb5a64e",
   "metadata": {},
   "outputs": [],
   "source": [
    "singles_purchase_sample_mean = []\n",
    "married_purchase_sample_mean = []\n",
    "\n",
    "for i in range(2000):\n",
    "    a = np.random.choice(singles['Purchase'],1000)\n",
    "    aa = np.random.choice(married['Purchase'],1000)\n",
    "    a_avg = np.mean(a)\n",
    "    aa_avg = np.mean(aa)\n",
    "    singles_purchase_sample_mean.append(a_avg)\n",
    "    married_purchase_sample_mean.append(aa_avg)"
   ]
  },
  {
   "cell_type": "code",
   "execution_count": 150,
   "id": "ced241b4",
   "metadata": {
    "scrolled": false
   },
   "outputs": [
    {
     "data": {
      "image/png": "[encoded data removed]",
      "text/plain": [
       "<Figure size 1440x576 with 2 Axes>"
      ]
     },
     "metadata": {
      "needs_background": "light"
     },
     "output_type": "display_data"
    }
   ],
   "source": [
    "plt.figure(figsize=(20,8))\n",
    "\n",
    "plt.subplot(1,2,1)\n",
    "sns.histplot(singles_purchase_sample_mean)\n",
    "plt.title('Distributions of means of single person. Sample Size:1000')\n",
    "plt.grid()\n",
    "\n",
    "plt.subplot(1,2,2)\n",
    "sns.histplot(married_purchase_sample_mean)\n",
    "plt.title('Distributions of means of married person. Sample Size:1000')\n",
    "plt.grid()\n",
    "\n",
    "plt.show()"
   ]
  },
  {
   "cell_type": "code",
   "execution_count": null,
   "id": "620558db",
   "metadata": {},
   "outputs": [],
   "source": []
  },
  {
   "cell_type": "markdown",
   "id": "e288f31d",
   "metadata": {},
   "source": [
    "### WITH 90% CONFIDENCE INTERVAL"
   ]
  },
  {
   "cell_type": "code",
   "execution_count": null,
   "id": "281dd601",
   "metadata": {},
   "outputs": [],
   "source": []
  },
  {
   "cell_type": "code",
   "execution_count": 151,
   "id": "8aada016",
   "metadata": {},
   "outputs": [],
   "source": [
    "single_s_mean = np.mean(singles_purchase_sample_mean)\n",
    "married_s_mean = np.mean(married_purchase_sample_mean)"
   ]
  },
  {
   "cell_type": "code",
   "execution_count": 152,
   "id": "5b1067dc",
   "metadata": {},
   "outputs": [
    {
     "data": {
      "text/plain": [
       "30098.407448420905"
      ]
     },
     "execution_count": 152,
     "metadata": {},
     "output_type": "execute_result"
    }
   ],
   "source": [
    "single_std =  np.std(singles_purchase_sample_mean)\n",
    "single_std"
   ]
  },
  {
   "cell_type": "code",
   "execution_count": 153,
   "id": "5eb0c350",
   "metadata": {},
   "outputs": [
    {
     "data": {
      "text/plain": [
       "29499.78054916535"
      ]
     },
     "execution_count": 153,
     "metadata": {},
     "output_type": "execute_result"
    }
   ],
   "source": [
    "married_std = np.std(married_purchase_sample_mean)\n",
    "married_std"
   ]
  },
  {
   "cell_type": "code",
   "execution_count": 154,
   "id": "57941532",
   "metadata": {},
   "outputs": [],
   "source": [
    "single_s_mean = np.mean(singles_purchase_sample_mean)\n",
    "married_s_mean = np.mean(married_purchase_sample_mean)"
   ]
  },
  {
   "cell_type": "code",
   "execution_count": 126,
   "id": "3a6e3106",
   "metadata": {},
   "outputs": [],
   "source": [
    "# single_se = single_std/np.sqrt(1000)\n",
    "# married_se = married_std/np.sqrt(1000)"
   ]
  },
  {
   "cell_type": "code",
   "execution_count": 155,
   "id": "9af1d7d5",
   "metadata": {},
   "outputs": [
    {
     "data": {
      "text/plain": [
       "831031.6179693476"
      ]
     },
     "execution_count": 155,
     "metadata": {},
     "output_type": "execute_result"
    }
   ],
   "source": [
    "single_upper_limit = single_s_mean -1.645 * single_std\n",
    "single_upper_limit"
   ]
  },
  {
   "cell_type": "code",
   "execution_count": 156,
   "id": "44bd898e",
   "metadata": {},
   "outputs": [
    {
     "data": {
      "text/plain": [
       "930055.3784746523"
      ]
     },
     "execution_count": 156,
     "metadata": {},
     "output_type": "execute_result"
    }
   ],
   "source": [
    "single_lower_limit = single_s_mean +1.645 * single_std\n",
    "single_lower_limit"
   ]
  },
  {
   "cell_type": "code",
   "execution_count": null,
   "id": "3dd551ce",
   "metadata": {},
   "outputs": [],
   "source": []
  },
  {
   "cell_type": "code",
   "execution_count": 157,
   "id": "8d425c2c",
   "metadata": {},
   "outputs": [],
   "source": [
    "married_upper_limit = married_s_mean - 1.645 * married_std\n",
    "married_lower_limit = married_s_mean + 1.645 * married_std"
   ]
  },
  {
   "cell_type": "code",
   "execution_count": 158,
   "id": "6df39347",
   "metadata": {},
   "outputs": [
    {
     "data": {
      "text/plain": [
       "(794203.301618123, 891257.5796248771)"
      ]
     },
     "execution_count": 158,
     "metadata": {},
     "output_type": "execute_result"
    }
   ],
   "source": [
    "married_upper_limit,married_lower_limit"
   ]
  },
  {
   "cell_type": "code",
   "execution_count": 159,
   "id": "4c644fb6",
   "metadata": {},
   "outputs": [
    {
     "name": "stdout",
     "output_type": "stream",
     "text": [
      "Single CI : [831031.6179693476, 930055.3784746523]\n",
      "Married CI : [794203.301618123, 891257.5796248771]\n"
     ]
    }
   ],
   "source": [
    "print(\"Single CI :\",[single_upper_limit,single_lower_limit])\n",
    "print(\"Married CI :\",[married_upper_limit,married_lower_limit])"
   ]
  },
  {
   "cell_type": "code",
   "execution_count": null,
   "id": "4b0601c0",
   "metadata": {},
   "outputs": [],
   "source": []
  },
  {
   "cell_type": "markdown",
   "id": "347e178a",
   "metadata": {},
   "source": [
    "### OBSERVATIONS :"
   ]
  },
  {
   "cell_type": "markdown",
   "id": "a98ec128",
   "metadata": {},
   "source": [
    "#### FOR SINGLES : \n",
    "#### WITH 90% CONFIDENCE INTERVAL WE CAN SAY THAT TRUE POPULATION WILL LIE BETWEEN RANGE 831031.6179693476, 930055.3784746523\n",
    "\n",
    "#### FOR MARRIED : \n",
    "#### WITH 90% CONFIDENCE INTERVAL WE CAN SAY THAT TRUE POPULATION WILL LIE BETWEEN RANGE 794203.301618123, 891257.5796248771"
   ]
  },
  {
   "cell_type": "code",
   "execution_count": null,
   "id": "dc1485ba",
   "metadata": {},
   "outputs": [],
   "source": []
  },
  {
   "cell_type": "code",
   "execution_count": null,
   "id": "289e485c",
   "metadata": {},
   "outputs": [],
   "source": []
  },
  {
   "cell_type": "markdown",
   "id": "55327893",
   "metadata": {},
   "source": [
    "### WITH 95% CONFIDENCE INTERVAL"
   ]
  },
  {
   "cell_type": "code",
   "execution_count": null,
   "id": "ec2adbbb",
   "metadata": {},
   "outputs": [],
   "source": []
  },
  {
   "cell_type": "code",
   "execution_count": 160,
   "id": "c6d4959b",
   "metadata": {},
   "outputs": [],
   "source": [
    "single_upper_limit = single_s_mean -1.96 * single_std\n",
    "single_lower_limit = single_s_mean +1.96 * single_std"
   ]
  },
  {
   "cell_type": "code",
   "execution_count": 161,
   "id": "13f3d341",
   "metadata": {},
   "outputs": [],
   "source": [
    "married_upper_limit = married_s_mean -1.96 * single_std\n",
    "married_lower_limit = married_s_mean +1.96 * single_std"
   ]
  },
  {
   "cell_type": "code",
   "execution_count": 162,
   "id": "174526ad",
   "metadata": {},
   "outputs": [
    {
     "name": "stdout",
     "output_type": "stream",
     "text": [
      "Single CI : [821550.619623095, 939536.3768209049]\n",
      "Married CI : [783737.5620225951, 901723.319220405]\n"
     ]
    }
   ],
   "source": [
    "print(\"Single CI :\",[single_upper_limit,single_lower_limit])\n",
    "print(\"Married CI :\",[married_upper_limit,married_lower_limit])"
   ]
  },
  {
   "cell_type": "code",
   "execution_count": null,
   "id": "decc953f",
   "metadata": {},
   "outputs": [],
   "source": []
  },
  {
   "cell_type": "markdown",
   "id": "e57fb7da",
   "metadata": {},
   "source": [
    "### OBSERVATIONS :"
   ]
  },
  {
   "cell_type": "markdown",
   "id": "a947c1ee",
   "metadata": {},
   "source": [
    "#### FOR SINGLES : \n",
    "#### WITH 95% CONFIDENCE INTERVAL WE CAN SAY THAT TRUE POPULATION WILL LIE BETWEEN RANGE 821550.619623095, 939536.3768209049\n",
    "\n",
    "#### FOR MARRIED : \n",
    "#### WITH 95% CONFIDENCE INTERVAL WE CAN SAY THAT TRUE POPULATION WILL LIE BETWEEN RANGE 783737.5620225951, 901723.319220405"
   ]
  },
  {
   "cell_type": "code",
   "execution_count": null,
   "id": "cc560167",
   "metadata": {},
   "outputs": [],
   "source": []
  },
  {
   "cell_type": "code",
   "execution_count": null,
   "id": "ea120090",
   "metadata": {},
   "outputs": [],
   "source": []
  },
  {
   "cell_type": "markdown",
   "id": "d8cde12b",
   "metadata": {},
   "source": [
    "### WITH 99% CONFIDENCE INTERVAL"
   ]
  },
  {
   "cell_type": "code",
   "execution_count": null,
   "id": "bbe61be0",
   "metadata": {},
   "outputs": [],
   "source": []
  },
  {
   "cell_type": "code",
   "execution_count": 135,
   "id": "2dd585ee",
   "metadata": {},
   "outputs": [],
   "source": [
    "single_upper_limit = single_s_mean - 2.576 * single_std        \n",
    "single_lower_limit = single_s_mean + 2.576 * single_std"
   ]
  },
  {
   "cell_type": "code",
   "execution_count": 163,
   "id": "9a295dc0",
   "metadata": {},
   "outputs": [],
   "source": [
    "married_upper_limit = married_s_mean - 2.576 * single_std  \n",
    "married_lower_limit = married_s_mean + 2.576 * single_std  "
   ]
  },
  {
   "cell_type": "code",
   "execution_count": 164,
   "id": "0508e941",
   "metadata": {},
   "outputs": [
    {
     "name": "stdout",
     "output_type": "stream",
     "text": [
      "Single CI : [821550.619623095, 939536.3768209049]\n",
      "Married CI : [765196.9430343678, 920263.9382086323]\n"
     ]
    }
   ],
   "source": [
    "print(\"Single CI :\",[single_upper_limit,single_lower_limit])\n",
    "print(\"Married CI :\",[married_upper_limit,married_lower_limit])"
   ]
  },
  {
   "cell_type": "code",
   "execution_count": null,
   "id": "30602977",
   "metadata": {},
   "outputs": [],
   "source": []
  },
  {
   "cell_type": "markdown",
   "id": "e0135821",
   "metadata": {},
   "source": [
    "### OBSERVATIONS :"
   ]
  },
  {
   "cell_type": "markdown",
   "id": "e7ba6d1a",
   "metadata": {},
   "source": [
    "#### FOR SINGLES : \n",
    "#### WITH 95% CONFIDENCE INTERVAL WE CAN SAY THAT TRUE POPULATION WILL LIE BETWEEN RANGE 821550.619623095, 939536.3768209049\n",
    "\n",
    "\n",
    "#### FOR MARRIED : \n",
    "#### WITH 95% CONFIDENCE INTERVAL WE CAN SAY THAT TRUE POPULATION WILL LIE BETWEEN RANGE 765196.9430343678, 920263.9382086323"
   ]
  },
  {
   "cell_type": "code",
   "execution_count": null,
   "id": "34ebb20d",
   "metadata": {},
   "outputs": [],
   "source": []
  },
  {
   "cell_type": "markdown",
   "id": "29c4d3b2",
   "metadata": {},
   "source": [
    "#### For married and singles, it can be seen with larger sample size the sample mean gets closer to tthe population mean. And at greater confidence interval, the range increases."
   ]
  },
  {
   "cell_type": "code",
   "execution_count": null,
   "id": "409736b4",
   "metadata": {},
   "outputs": [],
   "source": []
  },
  {
   "cell_type": "code",
   "execution_count": null,
   "id": "277a17ad",
   "metadata": {},
   "outputs": [],
   "source": []
  },
  {
   "cell_type": "code",
   "execution_count": null,
   "id": "ae15624b",
   "metadata": {},
   "outputs": [],
   "source": []
  },
  {
   "cell_type": "code",
   "execution_count": null,
   "id": "add313f4",
   "metadata": {},
   "outputs": [],
   "source": [
    "# Q 6B"
   ]
  },
  {
   "cell_type": "code",
   "execution_count": 138,
   "id": "9889a2c0",
   "metadata": {
    "scrolled": true
   },
   "outputs": [
    {
     "data": {
      "text/html": [
       "<div>\n",
       "<style scoped>\n",
       "    .dataframe tbody tr th:only-of-type {\n",
       "        vertical-align: middle;\n",
       "    }\n",
       "\n",
       "    .dataframe tbody tr th {\n",
       "        vertical-align: top;\n",
       "    }\n",
       "\n",
       "    .dataframe thead th {\n",
       "        text-align: right;\n",
       "    }\n",
       "</style>\n",
       "<table border=\"1\" class=\"dataframe\">\n",
       "  <thead>\n",
       "    <tr style=\"text-align: right;\">\n",
       "      <th></th>\n",
       "      <th>User_ID</th>\n",
       "      <th>Product_ID</th>\n",
       "      <th>Gender</th>\n",
       "      <th>Age</th>\n",
       "      <th>Occupation</th>\n",
       "      <th>City_Category</th>\n",
       "      <th>Stay_In_Current_City_Years</th>\n",
       "      <th>Marital_Status</th>\n",
       "      <th>Product_Category</th>\n",
       "      <th>Purchase</th>\n",
       "    </tr>\n",
       "  </thead>\n",
       "  <tbody>\n",
       "    <tr>\n",
       "      <th>0</th>\n",
       "      <td>1000001</td>\n",
       "      <td>P00069042</td>\n",
       "      <td>F</td>\n",
       "      <td>0-17</td>\n",
       "      <td>10</td>\n",
       "      <td>A</td>\n",
       "      <td>2</td>\n",
       "      <td>0</td>\n",
       "      <td>3</td>\n",
       "      <td>8370</td>\n",
       "    </tr>\n",
       "    <tr>\n",
       "      <th>1</th>\n",
       "      <td>1000001</td>\n",
       "      <td>P00248942</td>\n",
       "      <td>F</td>\n",
       "      <td>0-17</td>\n",
       "      <td>10</td>\n",
       "      <td>A</td>\n",
       "      <td>2</td>\n",
       "      <td>0</td>\n",
       "      <td>1</td>\n",
       "      <td>15200</td>\n",
       "    </tr>\n",
       "    <tr>\n",
       "      <th>2</th>\n",
       "      <td>1000001</td>\n",
       "      <td>P00087842</td>\n",
       "      <td>F</td>\n",
       "      <td>0-17</td>\n",
       "      <td>10</td>\n",
       "      <td>A</td>\n",
       "      <td>2</td>\n",
       "      <td>0</td>\n",
       "      <td>12</td>\n",
       "      <td>1422</td>\n",
       "    </tr>\n",
       "  </tbody>\n",
       "</table>\n",
       "</div>"
      ],
      "text/plain": [
       "   User_ID Product_ID Gender   Age  Occupation City_Category  \\\n",
       "0  1000001  P00069042      F  0-17          10             A   \n",
       "1  1000001  P00248942      F  0-17          10             A   \n",
       "2  1000001  P00087842      F  0-17          10             A   \n",
       "\n",
       "  Stay_In_Current_City_Years  Marital_Status  Product_Category  Purchase  \n",
       "0                          2               0                 3      8370  \n",
       "1                          2               0                 1     15200  \n",
       "2                          2               0                12      1422  "
      ]
     },
     "execution_count": 138,
     "metadata": {},
     "output_type": "execute_result"
    }
   ],
   "source": [
    "data.head(3)"
   ]
  },
  {
   "cell_type": "code",
   "execution_count": 165,
   "id": "d20049b5",
   "metadata": {},
   "outputs": [
    {
     "data": {
      "text/html": [
       "<div>\n",
       "<style scoped>\n",
       "    .dataframe tbody tr th:only-of-type {\n",
       "        vertical-align: middle;\n",
       "    }\n",
       "\n",
       "    .dataframe tbody tr th {\n",
       "        vertical-align: top;\n",
       "    }\n",
       "\n",
       "    .dataframe thead th {\n",
       "        text-align: right;\n",
       "    }\n",
       "</style>\n",
       "<table border=\"1\" class=\"dataframe\">\n",
       "  <thead>\n",
       "    <tr style=\"text-align: right;\">\n",
       "      <th></th>\n",
       "      <th>User_ID</th>\n",
       "      <th>Age</th>\n",
       "      <th>Purchase</th>\n",
       "    </tr>\n",
       "  </thead>\n",
       "  <tbody>\n",
       "    <tr>\n",
       "      <th>0</th>\n",
       "      <td>1000001</td>\n",
       "      <td>0-17</td>\n",
       "      <td>334093</td>\n",
       "    </tr>\n",
       "    <tr>\n",
       "      <th>1</th>\n",
       "      <td>1000002</td>\n",
       "      <td>55+</td>\n",
       "      <td>810472</td>\n",
       "    </tr>\n",
       "    <tr>\n",
       "      <th>2</th>\n",
       "      <td>1000003</td>\n",
       "      <td>26-35</td>\n",
       "      <td>341635</td>\n",
       "    </tr>\n",
       "    <tr>\n",
       "      <th>3</th>\n",
       "      <td>1000004</td>\n",
       "      <td>46-50</td>\n",
       "      <td>206468</td>\n",
       "    </tr>\n",
       "    <tr>\n",
       "      <th>4</th>\n",
       "      <td>1000005</td>\n",
       "      <td>26-35</td>\n",
       "      <td>821001</td>\n",
       "    </tr>\n",
       "    <tr>\n",
       "      <th>...</th>\n",
       "      <td>...</td>\n",
       "      <td>...</td>\n",
       "      <td>...</td>\n",
       "    </tr>\n",
       "    <tr>\n",
       "      <th>5886</th>\n",
       "      <td>1006036</td>\n",
       "      <td>26-35</td>\n",
       "      <td>4116058</td>\n",
       "    </tr>\n",
       "    <tr>\n",
       "      <th>5887</th>\n",
       "      <td>1006037</td>\n",
       "      <td>46-50</td>\n",
       "      <td>1119538</td>\n",
       "    </tr>\n",
       "    <tr>\n",
       "      <th>5888</th>\n",
       "      <td>1006038</td>\n",
       "      <td>55+</td>\n",
       "      <td>90034</td>\n",
       "    </tr>\n",
       "    <tr>\n",
       "      <th>5889</th>\n",
       "      <td>1006039</td>\n",
       "      <td>46-50</td>\n",
       "      <td>590319</td>\n",
       "    </tr>\n",
       "    <tr>\n",
       "      <th>5890</th>\n",
       "      <td>1006040</td>\n",
       "      <td>26-35</td>\n",
       "      <td>1653299</td>\n",
       "    </tr>\n",
       "  </tbody>\n",
       "</table>\n",
       "<p>5891 rows × 3 columns</p>\n",
       "</div>"
      ],
      "text/plain": [
       "      User_ID    Age  Purchase\n",
       "0     1000001   0-17    334093\n",
       "1     1000002    55+    810472\n",
       "2     1000003  26-35    341635\n",
       "3     1000004  46-50    206468\n",
       "4     1000005  26-35    821001\n",
       "...       ...    ...       ...\n",
       "5886  1006036  26-35   4116058\n",
       "5887  1006037  46-50   1119538\n",
       "5888  1006038    55+     90034\n",
       "5889  1006039  46-50    590319\n",
       "5890  1006040  26-35   1653299\n",
       "\n",
       "[5891 rows x 3 columns]"
      ]
     },
     "execution_count": 165,
     "metadata": {},
     "output_type": "execute_result"
    }
   ],
   "source": [
    "age_data = data.groupby(['User_ID','Age'])['Purchase'].sum().reset_index()\n",
    "age_data"
   ]
  },
  {
   "cell_type": "code",
   "execution_count": 166,
   "id": "a4d3a123",
   "metadata": {},
   "outputs": [
    {
     "data": {
      "text/plain": [
       "array(['0-17', '55+', '26-35', '46-50', '51-55', '36-45', '18-25'],\n",
       "      dtype=object)"
      ]
     },
     "execution_count": 166,
     "metadata": {},
     "output_type": "execute_result"
    }
   ],
   "source": [
    "age_data['Age'].unique()"
   ]
  },
  {
   "cell_type": "code",
   "execution_count": 167,
   "id": "24b46f1b",
   "metadata": {},
   "outputs": [
    {
     "data": {
      "text/plain": [
       "26-35    2053\n",
       "36-45    1167\n",
       "18-25    1069\n",
       "46-50     531\n",
       "51-55     481\n",
       "55+       372\n",
       "0-17      218\n",
       "Name: Age, dtype: int64"
      ]
     },
     "execution_count": 167,
     "metadata": {},
     "output_type": "execute_result"
    }
   ],
   "source": [
    "age_data['Age'].value_counts()"
   ]
  },
  {
   "cell_type": "code",
   "execution_count": 170,
   "id": "148919a4",
   "metadata": {},
   "outputs": [
    {
     "data": {
      "image/png": "[encoded data removed]",
      "text/plain": [
       "<Figure size 1440x1296 with 7 Axes>"
      ]
     },
     "metadata": {
      "needs_background": "light"
     },
     "output_type": "display_data"
    }
   ],
   "source": [
    "sample_all_age_mean = {}\n",
    "for i in age_data['Age'].unique():\n",
    "    sample_all_age_mean[i]=[]\n",
    "\n",
    "for i in age_data['Age'].unique():\n",
    "    age_i = age_data[age_data['Age']==i]\n",
    "    sample_age_mean_i = []\n",
    "\n",
    "    for j in range(2000):\n",
    "        sample_i_age = np.random.choice(age_i['Purchase'],1000)\n",
    "        sample_mean_i = np.mean(sample_i_age)\n",
    "        sample_all_age_mean[i].append(sample_mean_i)\n",
    "    \n",
    "plt.figure(figsize=(20,18))\n",
    "\n",
    "plt.subplot(4,2,1)\n",
    "sns.histplot(sample_all_age_mean['0-17'])\n",
    "plt.title('Distributions of means of age 0-17. Sample Size:1000')\n",
    "plt.grid()  \n",
    "\n",
    "plt.subplot(4,2,2)\n",
    "sns.histplot(sample_all_age_mean['18-25'])\n",
    "plt.title('Distributions of means of age 18-25. Sample Size:1000')\n",
    "plt.grid()\n",
    "\n",
    "plt.subplot(4,2,3)\n",
    "sns.histplot(sample_all_age_mean['26-35'])\n",
    "plt.title('Distributions of means of age 26-35. Sample Size:1000')\n",
    "plt.grid()  \n",
    "\n",
    "plt.subplot(4,2,4)\n",
    "sns.histplot(sample_all_age_mean['36-45'])\n",
    "plt.title('Distributions of means of age 36-45. Sample Size:1000')\n",
    "plt.grid()\n",
    "\n",
    "plt.subplot(4,2,5)\n",
    "sns.histplot(sample_all_age_mean['46-50'])\n",
    "plt.title('Distributions of means of age 46-50. Sample Size:1000')\n",
    "plt.grid()\n",
    "\n",
    "plt.subplot(4,2,6)\n",
    "sns.histplot(sample_all_age_mean['51-55'])\n",
    "plt.title('Distributions of means of age 51-55. Sample Size:1000')\n",
    "plt.grid()  \n",
    "\n",
    "plt.subplot(4,2,7)\n",
    "sns.histplot(sample_all_age_mean['55+'])\n",
    "plt.title('Distributions of means of age 55+. Sample Size:1000')\n",
    "plt.grid()"
   ]
  },
  {
   "cell_type": "code",
   "execution_count": null,
   "id": "aa33cae9",
   "metadata": {},
   "outputs": [],
   "source": []
  },
  {
   "cell_type": "markdown",
   "id": "7999a952",
   "metadata": {},
   "source": [
    "### OBSERVATIONS :"
   ]
  },
  {
   "cell_type": "markdown",
   "id": "5cd9100c",
   "metadata": {},
   "source": [
    "#### The means sample seems to be normally distributed for all age groups. Also, we can see the mean of the sample means are closer to the population mean as per central limit theorem."
   ]
  },
  {
   "cell_type": "code",
   "execution_count": null,
   "id": "f44639df",
   "metadata": {},
   "outputs": [],
   "source": []
  },
  {
   "cell_type": "code",
   "execution_count": null,
   "id": "7193fab8",
   "metadata": {},
   "outputs": [],
   "source": []
  },
  {
   "cell_type": "markdown",
   "id": "f8683389",
   "metadata": {},
   "source": [
    "### WITH 90% CONFIDENCE INTERVAL"
   ]
  },
  {
   "cell_type": "code",
   "execution_count": null,
   "id": "0a70e679",
   "metadata": {},
   "outputs": [],
   "source": []
  },
  {
   "cell_type": "code",
   "execution_count": 171,
   "id": "d115e8e7",
   "metadata": {},
   "outputs": [],
   "source": [
    "# for std\n",
    "sample_all_age_std = {}\n",
    "for i in age_data['Age'].unique():\n",
    "    sample_all_age_std[i]=[]\n",
    "\n",
    "for i in age_data['Age'].unique():\n",
    "    sample_all_age_std[i].append(np.std(sample_all_age_mean[i]))   \n",
    "\n",
    "    \n",
    "# for mean    \n",
    "all_age_sample_mean = {}\n",
    "for i in age_data['Age'].unique():\n",
    "    all_age_sample_mean[i]=[]\n",
    "    \n",
    "for i in age_data['Age'].unique():\n",
    "    all_age_sample_mean[i].append(np.mean(sample_all_age_mean[i]))\n",
    "\n",
    " "
   ]
  },
  {
   "cell_type": "code",
   "execution_count": null,
   "id": "493c4476",
   "metadata": {},
   "outputs": [],
   "source": []
  },
  {
   "cell_type": "code",
   "execution_count": 176,
   "id": "c9e6e22c",
   "metadata": {},
   "outputs": [
    {
     "name": "stdout",
     "output_type": "stream",
     "text": [
      "For age 0-17, population mean : [619790.5971660002]\n",
      "For age 0-17, 90% confidence interval of true mean value lie in : (584080.372372144, 655500.8219598563)\n",
      "\n",
      "For age 55+, population mean : [539346.5477015]\n",
      "For age 55+, 90% confidence interval of true mean value lie in : (507371.135835113, 571321.959567887)\n",
      "\n",
      "For age 26-35, population mean : [988669.325719]\n",
      "For age 26-35, 90% confidence interval of true mean value lie in : (935327.2745233746, 1042011.3769146253)\n",
      "\n",
      "For age 46-50, population mean : [792999.9966254999]\n",
      "For age 46-50, 90% confidence interval of true mean value lie in : (744118.3282914382, 841881.6649595617)\n",
      "\n",
      "For age 51-55, population mean : [763240.1257945]\n",
      "For age 51-55, 90% confidence interval of true mean value lie in : (723159.0830996042, 803321.1684893958)\n",
      "\n",
      "For age 36-45, population mean : [879696.934688]\n",
      "For age 36-45, 90% confidence interval of true mean value lie in : (828299.7216237267, 931094.1477522734)\n",
      "\n",
      "For age 18-25, population mean : [856263.030861]\n",
      "For age 18-25, 90% confidence interval of true mean value lie in : (809239.2594962044, 903286.8022257955)\n",
      "\n"
     ]
    }
   ],
   "source": [
    "for i in age_data['Age'].unique():\n",
    "    upper_limit = all_age_sample_mean[i][0] - 1.645 * sample_all_age_std[i][0]\n",
    "    lower_limit = all_age_sample_mean[i][0] + 1.645 * sample_all_age_std[i][0]\n",
    "    print(f\"For age {i}, population mean : {all_age_sample_mean[i]}\")\n",
    "    print(f\"For age {i}, 90% confidence interval of true mean value lie in : {upper_limit,lower_limit}\")\n",
    "    print()"
   ]
  },
  {
   "cell_type": "code",
   "execution_count": null,
   "id": "646cec9f",
   "metadata": {},
   "outputs": [],
   "source": []
  },
  {
   "cell_type": "markdown",
   "id": "88b6baa3",
   "metadata": {},
   "source": [
    "### WITH 95% CONFIDENCE INTERVAL"
   ]
  },
  {
   "cell_type": "code",
   "execution_count": null,
   "id": "68ab054d",
   "metadata": {},
   "outputs": [],
   "source": []
  },
  {
   "cell_type": "code",
   "execution_count": 177,
   "id": "6a4a1aef",
   "metadata": {},
   "outputs": [
    {
     "name": "stdout",
     "output_type": "stream",
     "text": [
      "For age 0-17, population mean : [619790.5971660002]\n",
      "For age 0-17, 95% confidence interval of true mean value lie in : (577242.2442201291, 662338.9501118712)\n",
      "\n",
      "For age 55+, population mean : [539346.5477015]\n",
      "For age 55+, 95% confidence interval of true mean value lie in : (501248.18462665594, 577444.910776344)\n",
      "\n",
      "For age 26-35, population mean : [988669.325719]\n",
      "For age 26-35, 95% confidence interval of true mean value lie in : (925112.8391880421, 1052225.8122499578)\n",
      "\n",
      "For age 46-50, population mean : [792999.9966254999]\n",
      "For age 46-50, 95% confidence interval of true mean value lie in : (734758.0088232136, 851241.9844277862)\n",
      "\n",
      "For age 51-55, population mean : [763240.1257945]\n",
      "For age 51-55, 95% confidence interval of true mean value lie in : (715483.9898176029, 810996.2617713971)\n",
      "\n",
      "For age 36-45, population mean : [879696.934688]\n",
      "For age 36-45, 95% confidence interval of true mean value lie in : (818457.7021007807, 940936.1672752193)\n",
      "\n",
      "For age 18-25, population mean : [856263.030861]\n",
      "For age 18-25, 95% confidence interval of true mean value lie in : (800234.707532733, 912291.3541892669)\n",
      "\n"
     ]
    }
   ],
   "source": [
    "for i in age_data['Age'].unique():\n",
    "    upper_limit = all_age_sample_mean[i][0] - 1.96 * sample_all_age_std[i][0]\n",
    "    lower_limit = all_age_sample_mean[i][0] + 1.96 * sample_all_age_std[i][0]\n",
    "    print(f\"For age {i}, population mean : {all_age_sample_mean[i]}\")\n",
    "    print(f\"For age {i}, 95% confidence interval of true mean value lie in : {upper_limit,lower_limit}\")\n",
    "    print()"
   ]
  },
  {
   "cell_type": "code",
   "execution_count": null,
   "id": "f368bf05",
   "metadata": {},
   "outputs": [],
   "source": []
  },
  {
   "cell_type": "markdown",
   "id": "c1d675ba",
   "metadata": {},
   "source": [
    "### WITH 99% CONFIDENCE INTERVAL"
   ]
  },
  {
   "cell_type": "code",
   "execution_count": null,
   "id": "ae94ce7b",
   "metadata": {},
   "outputs": [],
   "source": []
  },
  {
   "cell_type": "code",
   "execution_count": 178,
   "id": "def46336",
   "metadata": {},
   "outputs": [
    {
     "name": "stdout",
     "output_type": "stream",
     "text": [
      "For age 0-17, population mean : [619790.5971660002]\n",
      "For age 0-17, 99% confidence interval of true mean value lie in : (563869.9047228553, 675711.289609145)\n",
      "\n",
      "For age 55+, population mean : [539346.5477015]\n",
      "For age 55+, 99% confidence interval of true mean value lie in : (489274.4133745621, 589418.682028438)\n",
      "\n",
      "For age 26-35, population mean : [988669.325719]\n",
      "For age 26-35, 99% confidence interval of true mean value lie in : (905137.9434211696, 1072200.7080168303)\n",
      "\n",
      "For age 46-50, population mean : [792999.9966254999]\n",
      "For age 46-50, 99% confidence interval of true mean value lie in : (716453.3840853522, 869546.6091656476)\n",
      "\n",
      "For age 51-55, population mean : [763240.1257945]\n",
      "For age 51-55, 99% confidence interval of true mean value lie in : (700474.9185105781, 826005.3330784219)\n",
      "\n",
      "For age 36-45, population mean : [879696.934688]\n",
      "For age 36-45, 99% confidence interval of true mean value lie in : (799211.0861447974, 960182.7832312026)\n",
      "\n",
      "For age 18-25, population mean : [856263.030861]\n",
      "For age 18-25, 99% confidence interval of true mean value lie in : (782625.8059152776, 929900.2558067223)\n",
      "\n"
     ]
    }
   ],
   "source": [
    "for i in age_data['Age'].unique():\n",
    "    upper_limit = all_age_sample_mean[i][0] - 2.576 * sample_all_age_std[i][0]\n",
    "    lower_limit = all_age_sample_mean[i][0] + 2.576 * sample_all_age_std[i][0]\n",
    "    print(f\"For age {i}, population mean : {all_age_sample_mean[i]}\")\n",
    "    print(f\"For age {i}, 99% confidence interval of true mean value lie in : {upper_limit,lower_limit}\")\n",
    "    print()"
   ]
  },
  {
   "cell_type": "code",
   "execution_count": null,
   "id": "87e17ae2",
   "metadata": {},
   "outputs": [],
   "source": []
  },
  {
   "cell_type": "markdown",
   "id": "38afe3a6",
   "metadata": {},
   "source": [
    "### OBSERVATIONS :"
   ]
  },
  {
   "cell_type": "markdown",
   "id": "57e51e1f",
   "metadata": {},
   "source": [
    "#### We can see the sample means are closer to the population mean for the differnt age groups. And, with greater confidence interval we have the upper limit and lower limit range increases. As we have seen for gender and marital status, by increasing the sample size we can have the mean of the sample means closer to the population. "
   ]
  },
  {
   "cell_type": "code",
   "execution_count": null,
   "id": "4e0ee77f",
   "metadata": {},
   "outputs": [],
   "source": []
  },
  {
   "cell_type": "code",
   "execution_count": null,
   "id": "e20514f1",
   "metadata": {},
   "outputs": [],
   "source": []
  },
  {
   "cell_type": "markdown",
   "id": "fdb8f9a8",
   "metadata": {},
   "source": [
    "## RECOMMENDATIONS AND ACTIONS :"
   ]
  },
  {
   "cell_type": "markdown",
   "id": "cc22c7e9",
   "metadata": {},
   "source": [
    "- AS MALES SPENDS MORE MONEY THAN FEMALES, WALLMART CAN FOCUS ON MALE MEMBERS MORE SERIOUSLY TO RETAIN THEIR SPENDINGS.\n",
    "- PRODUCT CATEGORY (1,5,8) ARE IN HIGH DEMAND. SO WALLMART SHOULD MAKE SURE THAT THESE CATEGORY SHOULD ALWAYS BE AVAILABLE.\n",
    "- UNMARRIED CUSTOMERS SPENDS MORE THAN MARRIED ONES. SO COMPANY SHOULD TRY TO MAINTAIN THE SPENDINGS WHILE TRY TO INCREASE THE FEMALE SPENDINGS.\n",
    "- CUSTOMERS IN THE AGE GROUP OF 26-35 SPENDS MAXIMUM. SO COMPANY SHOULD TRY TO RETAIN THESE CUSTOMERS.\n",
    "- CITY CATEGORY 'C' IS THE GOOD OPPUTUNITY FOR SALE FOR MALE. AS MALE SPENDS MORE IN THIS CITY CATEGORY.\n",
    "- PRODUCT CATEGORY LIKE 4,12,13,19,20 HAVE VERY LESS SALE. COMPANY SHOULD TRY TO MINIMIZE THESE CATEGORY.\n",
    "- COMPANY SHOULD GIVE EXTRA CREDIT OR SALES POINT TO PEOPLE WITH OCCUPATION CATEGORY (0,1,4,7,17) TO RETAIN THESE HEALTHY CUSTOMERS AS MORE PEOPLE ARE FROM THESE CATEGORY. "
   ]
  },
  {
   "cell_type": "markdown",
   "id": "c7ca8215",
   "metadata": {},
   "source": [
    "## CONCLUSION :\n",
    "\n",
    "- AVERAGE SPENDINGS OF MALE IS HIGHER THAN FEMALE AS 75% OF THE TRANSACTIONS ARE DONE BY MALE.\n",
    "\n",
    "**MALE / FEMALE**\n",
    "- WITH 95% CONFIDENCE INTERVAL, MALE POPULATION SAMPLE MEAN WILL LIE IN ( 894370.560 - 954278.020 ).\n",
    "- WITH 95% CONFIDENCE INTERVAL, FEMALE POPULATION SAMPLE MEAN WILL LIE IN ( 671548.341 - 713071.981 ).\n",
    "\n",
    "\n",
    "- WITH 99% CONFIDENCE INTERVAL, MEAN VALUE OF FEMALE PURCHASES LIES BETWEEN RANGE 659056.698 - 713630.625.\n",
    "- WITH 99% CONFIDENCE INTERVAL, MEAN VALUE OF MALE PURCHASES LIES BETWEEN RANGE 877418.024 - 971230.556.\n",
    "\n",
    "**SINGLE / MARRIED**\n",
    "- WITH 95% CONFIDENCE INTERVAL, TRUE POPULATION OF SINGLE PERSON LIES BETWEEN RANGE 821550.619623095, 939536.3768209049.\n",
    "- WITH 90% CONFIDENCE INTERVAL, TRUE POPULATION OF MARRIED PERSON LIE BETWEEN RANGE 783737.5620225951, 901723.319220405."
   ]
  },
  {
   "cell_type": "code",
   "execution_count": null,
   "id": "fe083fe0",
   "metadata": {},
   "outputs": [],
   "source": []
  }
 ],
 "metadata": {
  "kernelspec": {
   "display_name": "Python 3 (ipykernel)",
   "language": "python",
   "name": "python3"
  },
  "language_info": {
   "codemirror_mode": {
    "name": "ipython",
    "version": 3
   },
   "file_extension": ".py",
   "mimetype": "text/x-python",
   "name": "python",
   "nbconvert_exporter": "python",
   "pygments_lexer": "ipython3",
   "version": "3.9.12"
  },
  "widgets": {
   "application/vnd.jupyter.widget-state+json": {
    "state": {},
    "version_major": 2,
    "version_minor": 0
   }
  }
 },
 "nbformat": 4,
 "nbformat_minor": 5
}
